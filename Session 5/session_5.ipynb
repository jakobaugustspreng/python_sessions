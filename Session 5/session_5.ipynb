{
 "cells": [
  {
   "cell_type": "markdown",
   "id": "24b98369-c7ba-450b-a8b5-e34319000695",
   "metadata": {
    "slideshow": {
     "slide_type": "slide"
    },
    "tags": []
   },
   "source": [
    "# Python for Data Science\n",
    "## Session 5 \n",
    "### Basic Libraries II"
   ]
  },
  {
   "cell_type": "markdown",
   "id": "3ace1343-d73d-466d-aa07-56febbb7cbf1",
   "metadata": {
    "slideshow": {
     "slide_type": "skip"
    },
    "tags": []
   },
   "source": [
    "---"
   ]
  },
  {
   "cell_type": "markdown",
   "id": "c5ffee69-5d4d-4f1c-9ed7-083afbc931ec",
   "metadata": {
    "slideshow": {
     "slide_type": "slide"
    },
    "tags": []
   },
   "source": [
    "## Outline\n",
    "\n",
    "1. Json, pickle and parquet formats\n",
    "\n",
    "2. Re library\n",
    "\n",
    "3. Time and Datetime libraries"
   ]
  },
  {
   "cell_type": "markdown",
   "id": "aba315f4-e9bf-4a66-b3d3-593037c3ca70",
   "metadata": {
    "slideshow": {
     "slide_type": "skip"
    },
    "tags": []
   },
   "source": [
    "---"
   ]
  },
  {
   "cell_type": "markdown",
   "id": "8ed45dcb-2cf5-4bfa-ba6e-5da25c59757c",
   "metadata": {
    "slideshow": {
     "slide_type": "slide"
    },
    "tags": []
   },
   "source": [
    "## Basic Libraries II\n",
    "\n",
    "Before starting working with different formats, let's see how we can create and read text files using Python buil-in function called **open**. "
   ]
  },
  {
   "cell_type": "code",
   "execution_count": 17,
   "id": "5f7ccded",
   "metadata": {
    "slideshow": {
     "slide_type": "subslide"
    }
   },
   "outputs": [],
   "source": [
    "# Open and write down a file\n",
    "f = open('text_file.txt', 'w')\n",
    "f.write('Hello')\n",
    "f.write('\\n')\n",
    "f.write('Bye')\n",
    "f.close()"
   ]
  },
  {
   "cell_type": "code",
   "execution_count": 18,
   "id": "116186a1",
   "metadata": {
    "slideshow": {
     "slide_type": "subslide"
    }
   },
   "outputs": [
    {
     "name": "stdout",
     "output_type": "stream",
     "text": [
      "Hello\n",
      "Bye\n"
     ]
    }
   ],
   "source": [
    "# Open and read content of a file\n",
    "f = open('text_file.txt', 'r')\n",
    "content = f.read()\n",
    "f.close()\n",
    "print(content)"
   ]
  },
  {
   "cell_type": "code",
   "execution_count": 19,
   "id": "5d60bcc2",
   "metadata": {
    "slideshow": {
     "slide_type": "subslide"
    }
   },
   "outputs": [
    {
     "name": "stdout",
     "output_type": "stream",
     "text": [
      "Line 0: Hello\n",
      "Line 1: Bye\n"
     ]
    }
   ],
   "source": [
    "# We can also simply split lines by using\n",
    "f = open('text_file.txt', 'r')\n",
    "lines = f.read().splitlines()\n",
    "f.close()\n",
    "# loop over the lines\n",
    "for idx, line in enumerate(lines): # enumerate provides returns the index and element\n",
    "    print(f'Line {idx}: {line}')"
   ]
  },
  {
   "cell_type": "code",
   "execution_count": 20,
   "id": "ef202e60",
   "metadata": {
    "slideshow": {
     "slide_type": "subslide"
    }
   },
   "outputs": [],
   "source": [
    "# Let's create a CSV (comma separated values) file\n",
    "header = \"Name,Age,Grade\\n\" \n",
    "rows = [\n",
    "    \"Jaume,30,8.9\\n\",\n",
    "    \"Francisco,25,7.1\\n\",\n",
    "    \"Elena,35,9.2\\n\"\n",
    "]"
   ]
  },
  {
   "cell_type": "code",
   "execution_count": 21,
   "id": "f4d4930e",
   "metadata": {
    "slideshow": {
     "slide_type": "subslide"
    }
   },
   "outputs": [],
   "source": [
    "with open(\"grades.csv\", \"w\") as f:\n",
    "    f.write(header) # Write the header\n",
    "    \n",
    "    # Write each row of data\n",
    "    for row in rows:\n",
    "        f.write(row)"
   ]
  },
  {
   "cell_type": "code",
   "execution_count": 22,
   "id": "35de8a4b",
   "metadata": {
    "slideshow": {
     "slide_type": "subslide"
    }
   },
   "outputs": [
    {
     "name": "stdout",
     "output_type": "stream",
     "text": [
      "['Name', 'Age', 'Grade']\n"
     ]
    },
    {
     "data": {
      "text/plain": [
       "{'students': [{'Name': 'Jaume', 'Age': '30', 'Grade': '8.9'},\n",
       "  {'Name': 'Francisco', 'Age': '25', 'Grade': '7.1'},\n",
       "  {'Name': 'Elena', 'Age': '35', 'Grade': '9.2'}]}"
      ]
     },
     "execution_count": 22,
     "metadata": {},
     "output_type": "execute_result"
    }
   ],
   "source": [
    "with open(\"grades.csv\", \"r\") as f:\n",
    "    lines = f.read().splitlines()\n",
    "    \n",
    "header = lines.pop(0)\n",
    "header = header.split(',')\n",
    "\n",
    "print(header)\n",
    "\n",
    "grades = {'students': []}\n",
    "# create dictionary\n",
    "for line in lines:\n",
    "    student_dict = {}\n",
    "    values = line.split(',')\n",
    "    for idx, column in enumerate(header):\n",
    "        student_dict[column] = values[idx]\n",
    "    grades['students'].append(student_dict)\n",
    "    \n",
    "grades"
   ]
  },
  {
   "cell_type": "markdown",
   "id": "35dc1a74",
   "metadata": {
    "slideshow": {
     "slide_type": "slide"
    },
    "tags": []
   },
   "source": [
    "## Basic Libraries II\n",
    "\n",
    "Another useful statement is **with**. It helps handling properly the resources within its reach, by closing them after its execution. It also makes the code more readable and maintainable."
   ]
  },
  {
   "cell_type": "code",
   "execution_count": 7,
   "id": "474a10ea",
   "metadata": {
    "slideshow": {
     "slide_type": "subslide"
    }
   },
   "outputs": [
    {
     "name": "stdout",
     "output_type": "stream",
     "text": [
      "['Hello', 'Bye']\n"
     ]
    }
   ],
   "source": [
    "with open('text_file.txt', 'r') as f: # we don't have to close the open file, f.close()\n",
    "    lines = f.read().splitlines()\n",
    "    \n",
    "print(lines)\n",
    "\n",
    "\n"
   ]
  },
  {
   "cell_type": "markdown",
   "id": "557f7645",
   "metadata": {
    "slideshow": {
     "slide_type": "slide"
    },
    "tags": []
   },
   "source": [
    "## Basic Libraries II\n",
    "\n",
    "JavaScript Object Notation (JSON) is a text-based format used for data storing and data interchange across different platforms and languages.\n",
    "\n",
    "Same as dictionaries, data is represented as key-value pairs. "
   ]
  },
  {
   "cell_type": "markdown",
   "id": "9e3e215c",
   "metadata": {
    "slideshow": {
     "slide_type": "slide"
    },
    "tags": []
   },
   "source": [
    "## Basic Libraries II\n",
    "\n",
    "JavaScript Object Notation (JSON) is a text-based format used for data storing and data interchange across different platforms and languages.\n",
    "\n",
    "Same as dictionaries, data is represented as key-value pairs. "
   ]
  },
  {
   "cell_type": "code",
   "execution_count": 8,
   "id": "a85baeee",
   "metadata": {
    "slideshow": {
     "slide_type": "fragment"
    }
   },
   "outputs": [
    {
     "data": {
      "text/plain": [
       "{'students': [{'name': 'Amelie', 'age': 35}, {'name': 'Edgar', 'age': 32}]}"
      ]
     },
     "execution_count": 8,
     "metadata": {},
     "output_type": "execute_result"
    }
   ],
   "source": [
    "{\n",
    "    \"students\": [\n",
    "        {\n",
    "            \"name\": \"Amelie\",\n",
    "            \"age\": 35\n",
    "        },\n",
    "        {\n",
    "            \"name\": \"Edgar\",\n",
    "            \"age\": 32\n",
    "        }\n",
    "    ]\n",
    "}"
   ]
  },
  {
   "cell_type": "code",
   "execution_count": 9,
   "id": "03372288",
   "metadata": {
    "slideshow": {
     "slide_type": "subslide"
    }
   },
   "outputs": [
    {
     "data": {
      "text/plain": [
       "[{'name': 'Amelie', 'age': 35}, {'name': 'Edgar', 'age': 32}]"
      ]
     },
     "execution_count": 9,
     "metadata": {},
     "output_type": "execute_result"
    }
   ],
   "source": [
    "# other valid formats\n",
    "[\n",
    "    {\n",
    "        \"name\": \"Amelie\",\n",
    "        \"age\": 35\n",
    "    },\n",
    "    {\n",
    "        \"name\": \"Edgar\",\n",
    "        \"age\": 32\n",
    "    }\n",
    "]"
   ]
  },
  {
   "cell_type": "code",
   "execution_count": 10,
   "id": "21363512",
   "metadata": {
    "slideshow": {
     "slide_type": "subslide"
    }
   },
   "outputs": [
    {
     "data": {
      "text/plain": [
       "['Amelie', 137, True, None, {'age': 35}, [10, 12, 13]]"
      ]
     },
     "execution_count": 10,
     "metadata": {},
     "output_type": "execute_result"
    }
   ],
   "source": [
    "# other valid formats\n",
    "[\n",
    "    \"Amelie\",\n",
    "    137,\n",
    "    True, # within the json file True is equivalent to true\n",
    "    None, # within the json file None is equivalent to null\n",
    "    {\"age\": 35},\n",
    "    [10, 12, 13]\n",
    "]"
   ]
  },
  {
   "cell_type": "markdown",
   "id": "2d4f9fc6",
   "metadata": {
    "slideshow": {
     "slide_type": "slide"
    }
   },
   "source": [
    "## Basic Libraries II\n",
    "\n",
    "To read and write down json files and manipulate them, we have the built-in json library within Python."
   ]
  },
  {
   "cell_type": "code",
   "execution_count": 11,
   "id": "550d6310",
   "metadata": {
    "slideshow": {
     "slide_type": "subslide"
    }
   },
   "outputs": [],
   "source": [
    "import json\n",
    "data = {\n",
    "    \"students\": [\n",
    "        {\n",
    "            \"name\": \"Amelie\",\n",
    "            \"age\": 35,\n",
    "            \"scolarship\": True\n",
    "        },\n",
    "        {\n",
    "            \"name\": \"Edgar\",\n",
    "            \"age\": 32,\n",
    "            \"scolarship\": None\n",
    "        }\n",
    "    ]\n",
    "}\n",
    "\n",
    "with open('json_example.json', 'w') as f: # write down json\n",
    "    json.dump(data, f)"
   ]
  },
  {
   "cell_type": "code",
   "execution_count": 12,
   "id": "6094e3cf",
   "metadata": {
    "slideshow": {
     "slide_type": "subslide"
    }
   },
   "outputs": [
    {
     "name": "stdout",
     "output_type": "stream",
     "text": [
      "{'students': [{'name': 'Amelie', 'age': 35, 'scolarship': True}, {'name': 'Edgar', 'age': 32, 'scolarship': None}]}\n"
     ]
    }
   ],
   "source": [
    "with open('json_example.json', 'r') as f:\n",
    "    json_data = json.load(f)\n",
    "    \n",
    "print(json_data)"
   ]
  },
  {
   "cell_type": "markdown",
   "id": "c8ad57c3",
   "metadata": {
    "slideshow": {
     "slide_type": "slide"
    },
    "tags": []
   },
   "source": [
    "## Basic Libraries II\n",
    "\n",
    "Similar to JSON, Python includes a Pickle library. However, in contrast to the JSON format, Pickle is a Python-specific serialization format. The Pickle library provides tools to serialize Python objects, which involves transforming them into a stream of bytes. It also allows you to read these byte streams by deserializing them, transforming them back into their original Python objects.\n",
    "\n",
    "In contrast to the JSON format, the binary format is usually more compact and, therefore, more efficient."
   ]
  },
  {
   "cell_type": "code",
   "execution_count": 24,
   "id": "5ab37f4f",
   "metadata": {
    "slideshow": {
     "slide_type": "subslide"
    }
   },
   "outputs": [
    {
     "name": "stdout",
     "output_type": "stream",
     "text": [
      "[0.12214606 0.50527515 0.3244699  0.64555391 0.02629188 0.53972555\n",
      " 0.98197123 0.95695865 0.91717288 0.84586812]\n"
     ]
    }
   ],
   "source": [
    "import numpy as np\n",
    "data = np.random.rand(10)\n",
    "\n",
    "import pickle\n",
    "\n",
    "# Serializing (dumping) the object\n",
    "with open('data.pkl', 'wb') as f:\n",
    "    pickle.dump(data, f)\n",
    "\n",
    "# Deserializing (loading) the object\n",
    "with open('data.pkl', 'rb') as f:\n",
    "    loaded_data = pickle.load(f)\n",
    "\n",
    "print(loaded_data)"
   ]
  },
  {
   "cell_type": "markdown",
   "id": "502f8a2f",
   "metadata": {
    "slideshow": {
     "slide_type": "subslide"
    }
   },
   "source": [
    "## Basic Libraries II\n",
    "\n",
    "**IMPORTANT**: Be extremely carefull when loading pickled data from untrusted sources. Pickles can execute arbitrary code."
   ]
  },
  {
   "cell_type": "markdown",
   "id": "f5826f2d",
   "metadata": {
    "slideshow": {
     "slide_type": "slide"
    },
    "tags": []
   },
   "source": [
    "## Basic Libraries II\n",
    "\n",
    "To work with **Parquet** files, you need either the **pyarrow** or **pandas** library. Parquet is a columnar storage format, meaning that each row represents a sample, and each column represents an attribute. This is a powerful format commonly used as a standard in platforms like **Hugging Face**."
   ]
  },
  {
   "cell_type": "code",
   "execution_count": 14,
   "id": "72fce0ca",
   "metadata": {
    "slideshow": {
     "slide_type": "subslide"
    }
   },
   "outputs": [
    {
     "name": "stdout",
     "output_type": "stream",
     "text": [
      "      name  age\n",
      "0    Alice   25\n",
      "1      Bob   30\n",
      "2  Charlie   35\n"
     ]
    }
   ],
   "source": [
    "import pandas as pd # if it is not working, simply uncomment the following line\n",
    "#!pip install pandas\n",
    "\n",
    "# Creating a DataFrame\n",
    "df = pd.DataFrame({\n",
    "    'name': ['Alice', 'Bob', 'Charlie'],\n",
    "    'age': [25, 30, 35]\n",
    "})\n",
    "\n",
    "# Writing DataFrame to Parquet file with Pandas\n",
    "df.to_parquet('data.parquet')\n",
    "\n",
    "# Reading DataFrame from Parquet file with Pandas\n",
    "df_loaded = pd.read_parquet('data.parquet')\n",
    "\n",
    "print(df_loaded)"
   ]
  },
  {
   "cell_type": "markdown",
   "id": "004bb3cc",
   "metadata": {
    "slideshow": {
     "slide_type": "slide"
    },
    "tags": []
   },
   "source": [
    "## Basic Libraries II\n",
    "\n",
    "When working with text, one of the most powerful tools is regular expressions, aka **regex**. With regex, you can perform complex pattern matching using wildcards and other special characters. Let's see how we could have handled session's four exercise:"
   ]
  },
  {
   "cell_type": "code",
   "execution_count": 25,
   "id": "0746e487",
   "metadata": {
    "slideshow": {
     "slide_type": "subslide"
    }
   },
   "outputs": [
    {
     "name": "stdout",
     "output_type": "stream",
     "text": [
      "['if', 'if']\n"
     ]
    }
   ],
   "source": [
    "import re\n",
    "\n",
    "data = \"What a wonderful life if we could play more time.\"\n",
    "\n",
    "# Regex pattern to find 'if'\n",
    "pattern = 'if'\n",
    "\n",
    "# Search for the pattern\n",
    "matches = re.findall(pattern, data)\n",
    "\n",
    "print(matches) "
   ]
  },
  {
   "cell_type": "markdown",
   "id": "cef1d4ba",
   "metadata": {
    "slideshow": {
     "slide_type": "slide"
    },
    "tags": []
   },
   "source": [
    "## Basic Libraries II\n",
    "\n",
    "Let's see how we could have handled session's four exercise:"
   ]
  },
  {
   "cell_type": "code",
   "execution_count": 33,
   "id": "37e73afc",
   "metadata": {
    "slideshow": {
     "slide_type": "subslide"
    }
   },
   "outputs": [
    {
     "data": {
      "text/plain": [
       "0"
      ]
     },
     "execution_count": 33,
     "metadata": {},
     "output_type": "execute_result"
    }
   ],
   "source": [
    "import re\n",
    "import glob\n",
    "import os\n",
    "\n",
    "# Regex pattern, r in front of strings tell python to treat them as raw strings\n",
    "# we do this so slashes don't get interpret as scaping symbol\n",
    "pattern = r'(\\d{8})_(\\d{6})_SN(\\d+)_QUICKVIEW_VISUAL_([\\d_]+)_([A-Za-z0-9\\-_.]+)\\.txt' \n",
    "\n",
    "#(\\d{8}): Matches 8 digits (e.g., a date in YYYYMMDD format).\n",
    "#(\\d{6}): Matches 6 digits (e.g., a time in HHMMSS format).\n",
    "#SN(\\d+): Matches the string \"SN\" followed by one or more digits.\n",
    "#QUICKVIEW_VISUAL_: Matches the literal string \"QUICKVIEW_VISUAL_\".\n",
    "#([\\d_]+): Matches one or more digits or underscores.\n",
    "#([A-Za-z0-9\\-_.]+): Matches one or more alphanumeric characters, hyphens, underscores, or dots.\n",
    "#\\.txt: Matches the literal string \".txt\".\n",
    "\n",
    "annotations = glob.glob('session_4/annotations/*.txt')\n",
    "\n",
    "matching_files = [file for file in annotations if pattern.search(file.split('/')[-1])]\n",
    "\n",
    "len(matching_files)"
   ]
  },
  {
   "cell_type": "code",
   "execution_count": 34,
   "id": "6b9fc572",
   "metadata": {
    "slideshow": {
     "slide_type": "subslide"
    }
   },
   "outputs": [
    {
     "name": "stderr",
     "output_type": "stream",
     "text": [
      "<>:3: SyntaxWarning: invalid escape sequence '\\d'\n",
      "<>:3: SyntaxWarning: invalid escape sequence '\\d'\n",
      "/var/folders/tl/hpx6c8fx2_92ztlkzjzzh9pr0000gn/T/ipykernel_65270/134246782.py:3: SyntaxWarning: invalid escape sequence '\\d'\n",
      "  '''\n"
     ]
    },
    {
     "data": {
      "text/plain": [
       "'\\n(\\\\d{8}): Captures 8 digits (YYYYMMDD).\\n_(\\\\d{6}): Captures 6 digits (HHMMSS).\\n_SN(\\\\d+): Captures one or more digits.\\n_QUICKVIEW_VISUAL_([\\\\d_]+): Captures digits and underscores.\\n_([A-Za-z0-9\\\\-_.]+): Captures letters, numbers, hyphens (-), underscores (_), and dots (.).\\n\\\\.txt: Makes sure that the filename ends with .txt.\\n'"
      ]
     },
     "execution_count": 34,
     "metadata": {},
     "output_type": "execute_result"
    }
   ],
   "source": [
    "pattern = r'(\\d{8})_(\\d{6})_SN(\\d+)_QUICKVIEW_VISUAL_([\\d_]+)_([A-Za-z0-9\\-_.]+)\\.txt'\n",
    "\n",
    "'''\n",
    "(\\d{8}): Captures 8 digits (YYYYMMDD).\n",
    "_(\\d{6}): Captures 6 digits (HHMMSS).\n",
    "_SN(\\d+): Captures one or more digits.\n",
    "_QUICKVIEW_VISUAL_([\\d_]+): Captures digits and underscores.\n",
    "_([A-Za-z0-9\\-_.]+): Captures letters, numbers, hyphens (-), underscores (_), and dots (.).\n",
    "\\.txt: Makes sure that the filename ends with .txt.\n",
    "'''"
   ]
  },
  {
   "cell_type": "markdown",
   "id": "24c2d658",
   "metadata": {
    "slideshow": {
     "slide_type": "slide"
    },
    "tags": []
   },
   "source": [
    "## Basic Libraries II\n",
    "\n",
    "**Time** and **Datetime** are other two Python built-in libraries used in plenty of pipelines involving time measurements, timestamp creation and dates manipulation."
   ]
  },
  {
   "cell_type": "code",
   "execution_count": 29,
   "id": "1a90b193",
   "metadata": {
    "slideshow": {
     "slide_type": "subslide"
    }
   },
   "outputs": [],
   "source": [
    "import time"
   ]
  },
  {
   "cell_type": "code",
   "execution_count": 30,
   "id": "9d51166e",
   "metadata": {
    "slideshow": {
     "slide_type": "fragment"
    }
   },
   "outputs": [
    {
     "name": "stdout",
     "output_type": "stream",
     "text": [
      "1730379863.706997\n"
     ]
    }
   ],
   "source": [
    "# Get current timestamp\n",
    "t = time.time() \n",
    "print(t)"
   ]
  },
  {
   "cell_type": "code",
   "execution_count": 31,
   "id": "dd05bf5d",
   "metadata": {
    "slideshow": {
     "slide_type": "fragment"
    }
   },
   "outputs": [],
   "source": [
    "time.sleep(10) # wait 10 second(s)"
   ]
  },
  {
   "cell_type": "code",
   "execution_count": 35,
   "id": "32d7f7e7",
   "metadata": {
    "slideshow": {
     "slide_type": "fragment"
    }
   },
   "outputs": [
    {
     "name": "stdout",
     "output_type": "stream",
     "text": [
      "2024-10-31 14:06:10\n"
     ]
    }
   ],
   "source": [
    "# Formatting time, localtime where the code is run\n",
    "formatted_time = time.strftime(\"%Y-%m-%d %H:%M:%S\", time.localtime()) \n",
    "print(formatted_time)"
   ]
  },
  {
   "cell_type": "code",
   "execution_count": 36,
   "id": "4ec76a98",
   "metadata": {
    "slideshow": {
     "slide_type": "subslide"
    }
   },
   "outputs": [
    {
     "name": "stdout",
     "output_type": "stream",
     "text": [
      "now: 2024-10-31 14:06:15.029828\n",
      "formatted_now: 2024-10-31 14:06:15\n",
      "parsed_date: 2024-10-17 21:00:00\n",
      "future_date: 2024-11-07 14:06:15.029828\n"
     ]
    }
   ],
   "source": [
    "from datetime import datetime, timedelta\n",
    "\n",
    "# method now() gives us the current date and time\n",
    "now = datetime.now()\n",
    "print(\"now:\", now)\n",
    "\n",
    "# Similar to the strftime function in time, we can it from datetime\n",
    "formatted_now = now.strftime(\"%Y-%m-%d %H:%M:%S\")\n",
    "print(\"formatted_now:\", formatted_now)\n",
    "\n",
    "# Parsing a string to a datetime object\n",
    "parsed_date = datetime.strptime(\"2024-10-17 21:00:00\", \"%Y-%m-%d %H:%M:%S\")\n",
    "print(\"parsed_date:\", parsed_date)\n",
    "\n",
    "# Adding a week using days with timedelta\n",
    "future_date = now + timedelta(days=7)\n",
    "print(\"future_date:\", future_date)"
   ]
  },
  {
   "cell_type": "code",
   "execution_count": 37,
   "id": "adc567b3",
   "metadata": {
    "slideshow": {
     "slide_type": "subslide"
    }
   },
   "outputs": [
    {
     "data": {
      "text/plain": [
       "(2024, 10, 17, 21)"
      ]
     },
     "execution_count": 37,
     "metadata": {},
     "output_type": "execute_result"
    }
   ],
   "source": [
    "parsed_date.year, parsed_date.month, parsed_date.day, parsed_date.hour"
   ]
  },
  {
   "cell_type": "markdown",
   "id": "0fc70e0c",
   "metadata": {
    "slideshow": {
     "slide_type": "slide"
    }
   },
   "source": [
    "## Basic Libraries II\n",
    "\n",
    "Let's now try to use them to order the annotations by date"
   ]
  },
  {
   "cell_type": "code",
   "execution_count": 38,
   "id": "bc5ffd12",
   "metadata": {
    "slideshow": {
     "slide_type": "subslide"
    }
   },
   "outputs": [],
   "source": [
    "import re\n",
    "import glob\n",
    "import os\n",
    "from datetime import datetime\n",
    "\n",
    "# Regex pattern, r in front of strings tell python to treat them as raw strings\n",
    "# we do this so slashes don't get interpret as scaping symbol\n",
    "pattern = r'(\\d{8})_(\\d{6})_SN(\\d+)_QUICKVIEW_VISUAL_([\\d_]+)_([A-Za-z0-9\\-_.]+)\\.txt' \n",
    "\n",
    "annotations = glob.glob('session_4/annotations/*.txt')\n",
    "\n",
    "# let's create a dictionary where per each annotations we gather the datetime object\n",
    "ann_datetime = []\n",
    "\n",
    "for annotation in annotations:\n",
    "\n",
    "    # extract the file name\n",
    "    filename = os.path.basename(annotation)\n",
    "    \n",
    "    # Search and extract values\n",
    "    match = re.match(pattern, filename)\n",
    "    if match:\n",
    "        date, time, _, _, _ = match.groups()\n",
    "\n",
    "        # Put them together, e.g. \"20240101192856\"\n",
    "        datetime_str = date + time \n",
    "\n",
    "        # Parse the string into a datetime object\n",
    "        datetime_obj = datetime.strptime(datetime_str, \"%Y%m%d%H%M%S\")\n",
    "\n",
    "        # Output the datetime object\n",
    "        print(f\"Datetime Object: {datetime_obj}\")\n",
    "        \n",
    "        ann_datetime.append((filename, datetime_obj))"
   ]
  },
  {
   "cell_type": "code",
   "execution_count": 39,
   "id": "878a7793",
   "metadata": {
    "slideshow": {
     "slide_type": "subslide"
    }
   },
   "outputs": [
    {
     "data": {
      "text/plain": [
       "array([], dtype=int64)"
      ]
     },
     "execution_count": 39,
     "metadata": {},
     "output_type": "execute_result"
    }
   ],
   "source": [
    "indices = np.argsort([date for name, date in ann_datetime])\n",
    "indices"
   ]
  },
  {
   "cell_type": "code",
   "execution_count": 40,
   "id": "22f9ba90",
   "metadata": {
    "slideshow": {
     "slide_type": "subslide"
    }
   },
   "outputs": [],
   "source": [
    "for i in indices:\n",
    "    print(ann_datetime[i][0])"
   ]
  },
  {
   "cell_type": "markdown",
   "id": "012aeb1b",
   "metadata": {
    "slideshow": {
     "slide_type": "slide"
    }
   },
   "source": [
    "### Exercise\n",
    "\n",
    "\n",
    "Reusing the same annotations we work with in the previous session, answer the following items using the libraries we saw today: \n",
    "\n",
    "1. How many annotations you have per month and year. Which month has more annotation files.\n",
    "2. Create a dictionary where each **key** is a month, and the corresponding **value** is a list containing all the annotation names with where their date corresponds to the month. \n",
    "3. Print all the annotations from the oldest ones to the newest one during the seconf half of the 2024. "
   ]
  },
  {
   "cell_type": "markdown",
   "id": "7cb98afb",
   "metadata": {},
   "source": [
    "### Exercise 1: \n",
    "How many annotations you have per month and year. Which month has more annotation files."
   ]
  },
  {
   "cell_type": "code",
   "execution_count": 75,
   "id": "949da2b2",
   "metadata": {},
   "outputs": [
    {
     "name": "stdout",
     "output_type": "stream",
     "text": [
      "Month 2024-01: 27 files\n",
      "Month 2024-06: 52 files\n",
      "Month 2024-04: 37 files\n",
      "Month 2024-02: 45 files\n",
      "Month 2024-03: 17 files\n",
      "Month 2024-05: 28 files\n",
      "Max month: 2024-06\n"
     ]
    }
   ],
   "source": [
    "from datetime import datetime\n",
    "import os\n",
    "annotations = glob.glob('/Users/jakobspreng/Desktop/session_4/annotations/*.txt')\n",
    "\n",
    "month_counter = {}\n",
    "for file in annotations:\n",
    "    filename = os.path.basename(file)\n",
    "    date_str = filename[:8]\n",
    "    \n",
    "    date_obj = datetime.strptime(date_str, \"%Y%m%d\")\n",
    "    \n",
    "    year_month = date_obj.strftime(\"%Y-%m\")\n",
    "    \n",
    "    if year_month in month_counter:\n",
    "        month_counter[year_month] += 1\n",
    "    else:\n",
    "        month_counter[year_month] = 1\n",
    "\n",
    "for month, count in month_counter.items():\n",
    "    print(f\"Month {month}: {count} files\")\n",
    "    \n",
    "    \n",
    "max_month = max(month_counter, key=month_counter.get)\n",
    "print(f\"Max month: {max_month}\")\n"
   ]
  },
  {
   "cell_type": "markdown",
   "id": "318ebd68",
   "metadata": {},
   "source": [
    "### a. Save it following the json format, and load it again to check that everything is ok.\n",
    "    "
   ]
  },
  {
   "cell_type": "code",
   "execution_count": 66,
   "id": "64ac678c",
   "metadata": {},
   "outputs": [
    {
     "name": "stdout",
     "output_type": "stream",
     "text": [
      "Loaded dictionary from JSON:\n",
      "Month 2024-01: 27 files\n",
      "Month 2024-06: 52 files\n",
      "Month 2024-04: 37 files\n",
      "Month 2024-02: 45 files\n",
      "Month 2024-03: 17 files\n",
      "Month 2024-05: 28 files\n",
      "{'2024-01': ['/Users/jakobspreng/Desktop/session_4/annotations/20240102_185527_SN27_QUICKVIEW_VISUAL_1_1_10_SATL-2KM-11N_740_3850.txt', '/Users/jakobspreng/Desktop/session_4/annotations/20240101_174301_SN33_QUICKVIEW_VISUAL_1_1_10_SATL-2KM-11N_404_3770.txt', '/Users/jakobspreng/Desktop/session_4/annotations/20240101_192856_SN24_QUICKVIEW_VISUAL_1_1_10_SATL-2KM-10N_552_4164.txt', '/Users/jakobspreng/Desktop/session_4/annotations/20240102_185954_SN24_QUICKVIEW_VISUAL_1_1_10_SATL-2KM-11N_414_3786.txt', '/Users/jakobspreng/Desktop/session_4/annotations/20240104_220339_SN31_QUICKVIEW_VISUAL_1_1_10_SATL-2KM-10N_556_4178.txt', '/Users/jakobspreng/Desktop/session_4/annotations/20240115_213834_SN28_QUICKVIEW_VISUAL_1_1_10_SATL-2KM-11N_376_3722.txt', '/Users/jakobspreng/Desktop/session_4/annotations/20240126_173752_SN33_QUICKVIEW_VISUAL_1_1_10_SATL-2KM-11N_386_3722.txt', '/Users/jakobspreng/Desktop/session_4/annotations/20240101_174301_SN33_QUICKVIEW_VISUAL_1_1_10_SATL-2KM-11N_404_3772.txt', '/Users/jakobspreng/Desktop/session_4/annotations/20240130_173903_SN33_QUICKVIEW_VISUAL_1_1_10_SATL-2KM-11N_366_3756.txt', '/Users/jakobspreng/Desktop/session_4/annotations/20240127_190620_SN27_QUICKVIEW_VISUAL_1_1_10_SATL-2KM-11N_500_3600.txt', '/Users/jakobspreng/Desktop/session_4/annotations/20240101_192856_SN24_QUICKVIEW_VISUAL_1_1_10_SATL-2KM-10N_552_4162.txt', '/Users/jakobspreng/Desktop/session_4/annotations/20240127_190620_SN27_QUICKVIEW_VISUAL_1_1_10_SATL-2KM-11N_500_3602.txt', '/Users/jakobspreng/Desktop/session_4/annotations/20240101_192856_SN24_QUICKVIEW_VISUAL_1_1_10_SATL-2KM-10N_554_4162.txt', '/Users/jakobspreng/Desktop/session_4/annotations/20240101_213601_SN31_QUICKVIEW_VISUAL_1_1_10_SATL-2KM-11N_392_3740.txt', '/Users/jakobspreng/Desktop/session_4/annotations/20240101_213601_SN31_QUICKVIEW_VISUAL_1_1_10_SATL-2KM-11N_392_3742.txt', '/Users/jakobspreng/Desktop/session_4/annotations/20240128_213258_SN29_QUICKVIEW_VISUAL_1_1_10_SATL-2KM-11N_418_3864.txt', '/Users/jakobspreng/Desktop/session_4/annotations/20240128_213258_SN29_QUICKVIEW_VISUAL_1_1_10_SATL-2KM-11N_418_3862.txt', '/Users/jakobspreng/Desktop/session_4/annotations/20240130_215036_SN31_QUICKVIEW_VISUAL_1_1_10_SATL-2KM-11N_366_3756.txt', '/Users/jakobspreng/Desktop/session_4/annotations/20240127_190620_SN27_QUICKVIEW_VISUAL_1_1_10_SATL-2KM-11N_502_3602.txt', '/Users/jakobspreng/Desktop/session_4/annotations/20240127_190620_SN27_QUICKVIEW_VISUAL_1_1_10_SATL-2KM-11N_502_3600.txt', '/Users/jakobspreng/Desktop/session_4/annotations/20240130_173903_SN33_QUICKVIEW_VISUAL_1_1_10_SATL-2KM-11N_360_3748.txt', '/Users/jakobspreng/Desktop/session_4/annotations/20240130_173903_SN33_QUICKVIEW_VISUAL_1_1_10_SATL-2KM-11N_364_3754.txt', '/Users/jakobspreng/Desktop/session_4/annotations/20240101_213601_SN31_QUICKVIEW_VISUAL_1_1_10_SATL-2KM-11N_396_3752.txt', '/Users/jakobspreng/Desktop/session_4/annotations/20240112_192510_SN27_QUICKVIEW_VISUAL_1_1_10_SATL-2KM-11N_386_3750.txt', '/Users/jakobspreng/Desktop/session_4/annotations/20240115_213834_SN28_QUICKVIEW_VISUAL_1_1_10_SATL-2KM-11N_380_3724.txt', '/Users/jakobspreng/Desktop/session_4/annotations/20240110_192002_SN27_QUICKVIEW_VISUAL_1_1_10_SATL-2KM-11N_380_3728.txt', '/Users/jakobspreng/Desktop/session_4/annotations/20240102_185605_SN27_QUICKVIEW_VISUAL_1_1_10_SATL-2KM-11N_690_3572.txt'], '2024-06': ['/Users/jakobspreng/Desktop/session_4/annotations/20240623_193704_SN27_QUICKVIEW_VISUAL_1_7_0_SATL-2KM-11N_566_3734.txt', '/Users/jakobspreng/Desktop/session_4/annotations/20240603_215226_SN28_QUICKVIEW_VISUAL_1_6_0_SATL-2KM-11N_248_4068.txt', '/Users/jakobspreng/Desktop/session_4/annotations/20240603_215348_SN28_QUICKVIEW_VISUAL_1_6_0_SATL-2KM-11N_346_3786.txt', '/Users/jakobspreng/Desktop/session_4/annotations/20240616_213053_SN30_QUICKVIEW_VISUAL_1_7_0_SATL-2KM-11N_460_3792.txt', '/Users/jakobspreng/Desktop/session_4/annotations/20240611_025943_SN26_QUICKVIEW_VISUAL_1_7_0_SATL-2KM-51N_748_4366.txt', '/Users/jakobspreng/Desktop/session_4/annotations/20240612_185400_SN24_QUICKVIEW_VISUAL_1_7_0_SATL-2KM-11N_574_3714.txt', '/Users/jakobspreng/Desktop/session_4/annotations/20240619_185757_SN24_QUICKVIEW_VISUAL_1_7_0_SATL-2KM-11N_528_3700.txt', '/Users/jakobspreng/Desktop/session_4/annotations/20240619_052401_SN30_QUICKVIEW_VISUAL_1_7_0_SATL-2KM-52N_368_4336.txt', '/Users/jakobspreng/Desktop/session_4/annotations/20240616_213047_SN30_QUICKVIEW_VISUAL_1_7_0_SATL-2KM-11N_464_3830.txt', '/Users/jakobspreng/Desktop/session_4/annotations/20240616_102144_SN28_QUICKVIEW_VISUAL_1_7_0_SATL-2KM-39N_560_2792.txt', '/Users/jakobspreng/Desktop/session_4/annotations/20240617_052859_SN29_QUICKVIEW_VISUAL_1_7_0_SATL-2KM-51N_730_4348.txt', '/Users/jakobspreng/Desktop/session_4/annotations/20240608_214614_SN29_QUICKVIEW_VISUAL_1_7_0_SATL-2KM-11N_248_4068.txt', '/Users/jakobspreng/Desktop/session_4/annotations/20240617_211350_SN29_QUICKVIEW_VISUAL_1_7_0_SATL-2KM-11N_724_3614.txt', '/Users/jakobspreng/Desktop/session_4/annotations/20240606_180251_SN33_QUICKVIEW_VISUAL_1_7_0_SATL-2KM-10N_556_4180.txt', '/Users/jakobspreng/Desktop/session_4/annotations/20240613_214203_SN43_QUICKVIEW_VISUAL_1_7_0_SATL-2KM-11N_384_3750.txt', '/Users/jakobspreng/Desktop/session_4/annotations/20240611_025943_SN26_QUICKVIEW_VISUAL_1_7_0_SATL-2KM-51N_748_4364.txt', '/Users/jakobspreng/Desktop/session_4/annotations/20240616_081345_SN27_QUICKVIEW_VISUAL_1_7_0_SATL-2KM-39N_562_2794.txt', '/Users/jakobspreng/Desktop/session_4/annotations/20240609_214259_SN30_QUICKVIEW_VISUAL_1_7_0_SATL-2KM-11N_262_4052.txt', '/Users/jakobspreng/Desktop/session_4/annotations/20240604_214955_SN29_QUICKVIEW_VISUAL_1_7_0_SATL-2KM-10N_594_4136.txt', '/Users/jakobspreng/Desktop/session_4/annotations/20240613_192217_SN26_QUICKVIEW_VISUAL_1_7_0_SATL-2KM-10N_560_4178.txt', '/Users/jakobspreng/Desktop/session_4/annotations/20240615_173631_SN33_QUICKVIEW_VISUAL_1_7_0_SATL-2KM-11N_546_3742.txt', '/Users/jakobspreng/Desktop/session_4/annotations/20240623_215120_SN29_QUICKVIEW_VISUAL_1_7_0_SATL-2KM-10N_596_4134.txt', '/Users/jakobspreng/Desktop/session_4/annotations/20240612_185400_SN24_QUICKVIEW_VISUAL_1_7_0_SATL-2KM-11N_576_3720.txt', '/Users/jakobspreng/Desktop/session_4/annotations/20240612_053829_SN28_QUICKVIEW_VISUAL_1_7_0_SATL-2KM-51N_686_4422.txt', '/Users/jakobspreng/Desktop/session_4/annotations/20240616_102144_SN28_QUICKVIEW_VISUAL_1_7_0_SATL-2KM-39N_558_2794.txt', '/Users/jakobspreng/Desktop/session_4/annotations/20240616_081345_SN27_QUICKVIEW_VISUAL_1_7_0_SATL-2KM-39N_562_2792.txt', '/Users/jakobspreng/Desktop/session_4/annotations/20240616_213047_SN30_QUICKVIEW_VISUAL_1_7_0_SATL-2KM-11N_466_3828.txt', '/Users/jakobspreng/Desktop/session_4/annotations/20240619_215556_SN29_QUICKVIEW_VISUAL_1_7_0_SATL-2KM-10N_742_4460.txt', '/Users/jakobspreng/Desktop/session_4/annotations/20240611_215323_SN30_QUICKVIEW_VISUAL_1_7_0_SATL-2KM-10N_702_3948.txt', '/Users/jakobspreng/Desktop/session_4/annotations/20240613_053340_SN29_QUICKVIEW_VISUAL_1_7_0_SATL-2KM-51N_728_4342.txt', '/Users/jakobspreng/Desktop/session_4/annotations/20240612_185419_SN24_QUICKVIEW_VISUAL_1_7_0_SATL-2KM-11N_554_3610.txt', '/Users/jakobspreng/Desktop/session_4/annotations/20240612_053829_SN28_QUICKVIEW_VISUAL_1_7_0_SATL-2KM-51N_688_4420.txt', '/Users/jakobspreng/Desktop/session_4/annotations/20240616_213047_SN30_QUICKVIEW_VISUAL_1_7_0_SATL-2KM-11N_466_3826.txt', '/Users/jakobspreng/Desktop/session_4/annotations/20240612_185400_SN24_QUICKVIEW_VISUAL_1_7_0_SATL-2KM-11N_578_3722.txt', '/Users/jakobspreng/Desktop/session_4/annotations/20240610_191018_SN26_QUICKVIEW_VISUAL_1_7_0_SATL-2KM-11N_384_3750.txt', '/Users/jakobspreng/Desktop/session_4/annotations/20240613_053340_SN29_QUICKVIEW_VISUAL_1_7_0_SATL-2KM-51N_730_4342.txt', '/Users/jakobspreng/Desktop/session_4/annotations/20240616_102144_SN28_QUICKVIEW_VISUAL_1_7_0_SATL-2KM-39N_556_2794.txt', '/Users/jakobspreng/Desktop/session_4/annotations/20240618_215539_SN31_QUICKVIEW_VISUAL_1_7_0_SATL-2KM-11N_452_3740.txt', '/Users/jakobspreng/Desktop/session_4/annotations/20240623_215102_SN43_QUICKVIEW_VISUAL_1_7_0_SATL-2KM-11N_384_3750.txt', '/Users/jakobspreng/Desktop/session_4/annotations/20240607_200250_SN27_QUICKVIEW_VISUAL_1_7_0_SATL-2KM-10N_554_4172.txt', '/Users/jakobspreng/Desktop/session_4/annotations/20240618_215539_SN31_QUICKVIEW_VISUAL_1_7_0_SATL-2KM-11N_458_3756.txt', '/Users/jakobspreng/Desktop/session_4/annotations/20240602_215203_SN30_QUICKVIEW_VISUAL_1_6_0_SATL-2KM-10N_714_3948.txt', '/Users/jakobspreng/Desktop/session_4/annotations/20240617_184443_SN24_QUICKVIEW_VISUAL_1_7_0_SATL-2KM-11N_702_3566.txt', '/Users/jakobspreng/Desktop/session_4/annotations/20240602_215203_SN30_QUICKVIEW_VISUAL_1_6_0_SATL-2KM-10N_712_3948.txt', '/Users/jakobspreng/Desktop/session_4/annotations/20240616_081345_SN27_QUICKVIEW_VISUAL_1_7_0_SATL-2KM-39N_560_2792.txt', '/Users/jakobspreng/Desktop/session_4/annotations/20240616_213047_SN30_QUICKVIEW_VISUAL_1_7_0_SATL-2KM-11N_464_3828.txt', '/Users/jakobspreng/Desktop/session_4/annotations/20240618_193146_SN27_QUICKVIEW_VISUAL_1_7_0_SATL-2KM-11N_530_3682.txt', '/Users/jakobspreng/Desktop/session_4/annotations/20240614_221436_SN31_QUICKVIEW_VISUAL_1_7_0_SATL-2KM-10N_558_4184.txt', '/Users/jakobspreng/Desktop/session_4/annotations/20240605_212717_SN29_QUICKVIEW_VISUAL_1_7_0_SATL-2KM-11N_718_3608.txt', '/Users/jakobspreng/Desktop/session_4/annotations/20240609_191744_SN24_QUICKVIEW_VISUAL_1_7_0_SATL-2KM-10N_564_4194.txt', '/Users/jakobspreng/Desktop/session_4/annotations/20240616_081345_SN27_QUICKVIEW_VISUAL_1_7_0_SATL-2KM-39N_560_2794.txt', '/Users/jakobspreng/Desktop/session_4/annotations/20240609_191959_SN27_QUICKVIEW_VISUAL_1_7_0_SATL-2KM-11N_702_3540.txt'], '2024-04': ['/Users/jakobspreng/Desktop/session_4/annotations/20240402_184757_SN24_QUICKVIEW_VISUAL_1_2_0_SATL-2KM-11N_488_3638.txt', '/Users/jakobspreng/Desktop/session_4/annotations/20240423_190101_SN26_QUICKVIEW_VISUAL_1_5_0_SATL-2KM-11N_418_3872.txt', '/Users/jakobspreng/Desktop/session_4/annotations/20240402_184757_SN24_QUICKVIEW_VISUAL_1_2_0_SATL-2KM-11N_486_3630.txt', '/Users/jakobspreng/Desktop/session_4/annotations/20240405_183824_409694_MS_NS24_QUICKVIEW_VISUAL_1_3_0_SATL-2KM-11N_736_3716.txt', '/Users/jakobspreng/Desktop/session_4/annotations/20240418_213446_163074_MS_NS28_QUICKVIEW_VISUAL_1_3_0_SATL-2KM-11N_388_3748.txt', '/Users/jakobspreng/Desktop/session_4/annotations/20240417_215406_715231_MS_NS43_QUICKVIEW_VISUAL_1_3_0_SATL-2KM-10N_740_4446.txt', '/Users/jakobspreng/Desktop/session_4/annotations/20240423_190101_SN26_QUICKVIEW_VISUAL_1_5_0_SATL-2KM-11N_418_3864.txt', '/Users/jakobspreng/Desktop/session_4/annotations/20240401_221819_SN31_QUICKVIEW_VISUAL_1_2_0_SATL-2KM-10N_602_4148.txt', '/Users/jakobspreng/Desktop/session_4/annotations/20240423_190101_SN26_QUICKVIEW_VISUAL_1_5_0_SATL-2KM-11N_418_3860.txt', '/Users/jakobspreng/Desktop/session_4/annotations/20240412_191539_631044_MS_NS24_QUICKVIEW_VISUAL_1_3_0_SATL-2KM-11N_258_4036.txt', '/Users/jakobspreng/Desktop/session_4/annotations/20240402_184757_SN24_QUICKVIEW_VISUAL_1_2_0_SATL-2KM-11N_486_3636.txt', '/Users/jakobspreng/Desktop/session_4/annotations/20240423_190101_SN26_QUICKVIEW_VISUAL_1_5_0_SATL-2KM-11N_418_3862.txt', '/Users/jakobspreng/Desktop/session_4/annotations/20240410_214321_024179_MS_NS30_QUICKVIEW_VISUAL_1_3_0_SATL-2KM-11N_296_3786.txt', '/Users/jakobspreng/Desktop/session_4/annotations/20240428_215426_SN43_QUICKVIEW_VISUAL_1_5_0_SATL-2KM-10N_630_4264.txt', '/Users/jakobspreng/Desktop/session_4/annotations/20240427_221308_SN31_QUICKVIEW_VISUAL_1_5_0_SATL-2KM-10N_722_3848.txt', '/Users/jakobspreng/Desktop/session_4/annotations/20240410_214305_399233_MS_NS43_QUICKVIEW_VISUAL_1_3_0_SATL-2KM-11N_380_3764.txt', '/Users/jakobspreng/Desktop/session_4/annotations/20240423_190101_SN26_QUICKVIEW_VISUAL_1_5_0_SATL-2KM-11N_414_3862.txt', '/Users/jakobspreng/Desktop/session_4/annotations/20240401_032415_SN27_QUICKVIEW_VISUAL_1_2_0_SATL-2KM-51N_688_4420.txt', '/Users/jakobspreng/Desktop/session_4/annotations/20240408_211552_958249_MS_NS29_QUICKVIEW_VISUAL_1_3_0_SATL-2KM-11N_734_3742.txt', '/Users/jakobspreng/Desktop/session_4/annotations/20240428_215426_SN43_QUICKVIEW_VISUAL_1_5_0_SATL-2KM-10N_630_4262.txt', '/Users/jakobspreng/Desktop/session_4/annotations/20240428_215426_SN43_QUICKVIEW_VISUAL_1_5_0_SATL-2KM-10N_634_4282.txt', '/Users/jakobspreng/Desktop/session_4/annotations/20240412_191539_377035_MS_NS24_QUICKVIEW_VISUAL_1_3_0_SATL-2KM-11N_258_4038.txt', '/Users/jakobspreng/Desktop/session_4/annotations/20240401_175918_SN33_QUICKVIEW_VISUAL_1_2_0_SATL-2KM-10N_542_4168.txt', '/Users/jakobspreng/Desktop/session_4/annotations/20240412_191549_672087_MS_NS24_QUICKVIEW_VISUAL_1_3_0_SATL-2KM-11N_240_3966.txt', '/Users/jakobspreng/Desktop/session_4/annotations/20240426_215224_SN29_QUICKVIEW_VISUAL_1_5_0_SATL-2KM-11N_244_3818.txt', '/Users/jakobspreng/Desktop/session_4/annotations/20240401_175918_SN33_QUICKVIEW_VISUAL_1_2_0_SATL-2KM-10N_546_4206.txt', '/Users/jakobspreng/Desktop/session_4/annotations/20240407_190149_742846_MS_NS24_QUICKVIEW_VISUAL_1_3_0_SATL-2KM-11N_258_4028.txt', '/Users/jakobspreng/Desktop/session_4/annotations/20240402_215427_SN31_QUICKVIEW_VISUAL_1_2_0_SATL-2KM-11N_502_3600.txt', '/Users/jakobspreng/Desktop/session_4/annotations/20240428_215557_SN43_QUICKVIEW_VISUAL_1_5_0_SATL-2KM-10N_726_3862.txt', '/Users/jakobspreng/Desktop/session_4/annotations/20240423_190101_SN26_QUICKVIEW_VISUAL_1_5_0_SATL-2KM-11N_416_3864.txt', '/Users/jakobspreng/Desktop/session_4/annotations/20240420_181053_341939_MS_NS33_QUICKVIEW_VISUAL_1_3_0_SATL-2KM-10N_556_4180.txt', '/Users/jakobspreng/Desktop/session_4/annotations/20240402_184757_SN24_QUICKVIEW_VISUAL_1_2_0_SATL-2KM-11N_490_3638.txt', '/Users/jakobspreng/Desktop/session_4/annotations/20240412_052750_556466_MS_NS29_QUICKVIEW_VISUAL_1_3_0_SATL-2KM-51N_688_4420.txt', '/Users/jakobspreng/Desktop/session_4/annotations/20240428_191026_SN24_QUICKVIEW_VISUAL_1_5_0_SATL-2KM-11N_380_3722.txt', '/Users/jakobspreng/Desktop/session_4/annotations/20240401_175925_SN33_QUICKVIEW_VISUAL_1_2_0_SATL-2KM-10N_542_4168.txt', '/Users/jakobspreng/Desktop/session_4/annotations/20240402_215421_SN31_QUICKVIEW_VISUAL_1_2_0_SATL-2KM-11N_500_3632.txt', '/Users/jakobspreng/Desktop/session_4/annotations/20240423_190101_SN26_QUICKVIEW_VISUAL_1_5_0_SATL-2KM-11N_416_3862.txt'], '2024-02': ['/Users/jakobspreng/Desktop/session_4/annotations/20240201_075140_SN26_QUICKVIEW_VISUAL_1_1_10_SATL-2KM-39N_558_2794.txt', '/Users/jakobspreng/Desktop/session_4/annotations/20240222_074151_SN26_QUICKVIEW_VISUAL_1_1_10_SATL-2KM-39N_560_2794.txt', '/Users/jakobspreng/Desktop/session_4/annotations/20240218_180121_SN33_QUICKVIEW_VISUAL_1_1_10_SATL-2KM-10N_568_4176.txt', '/Users/jakobspreng/Desktop/session_4/annotations/20240213_212524_SN29_QUICKVIEW_VISUAL_1_1_10_SATL-2KM-11N_542_3750.txt', '/Users/jakobspreng/Desktop/session_4/annotations/20240222_074155_SN26_QUICKVIEW_VISUAL_1_1_10_SATL-2KM-39N_556_2794.txt', '/Users/jakobspreng/Desktop/session_4/annotations/20240222_074155_SN26_QUICKVIEW_VISUAL_1_1_10_SATL-2KM-39N_562_2794.txt', '/Users/jakobspreng/Desktop/session_4/annotations/20240222_074151_SN26_QUICKVIEW_VISUAL_1_1_10_SATL-2KM-39N_560_2796.txt', '/Users/jakobspreng/Desktop/session_4/annotations/20240220_190455_SN27_QUICKVIEW_VISUAL_1_1_10_SATL-2KM-11N_718_3608.txt', '/Users/jakobspreng/Desktop/session_4/annotations/20240203_173953_SN33_QUICKVIEW_VISUAL_1_1_10_SATL-2KM-11N_368_3756.txt', '/Users/jakobspreng/Desktop/session_4/annotations/20240222_074256_SN26_QUICKVIEW_VISUAL_1_1_10_SATL-2KM-39N_564_2790.txt', '/Users/jakobspreng/Desktop/session_4/annotations/20240222_074155_SN26_QUICKVIEW_VISUAL_1_1_10_SATL-2KM-39N_556_2792.txt', '/Users/jakobspreng/Desktop/session_4/annotations/20240201_075143_SN26_QUICKVIEW_VISUAL_1_1_10_SATL-2KM-39N_556_2792.txt', '/Users/jakobspreng/Desktop/session_4/annotations/20240223_025420_SN24_QUICKVIEW_VISUAL_1_1_10_SATL-2KM-51N_686_4422.txt', '/Users/jakobspreng/Desktop/session_4/annotations/20240228_213951_SN29_QUICKVIEW_VISUAL_1_1_10_SATL-2KM-11N_248_4068.txt', '/Users/jakobspreng/Desktop/session_4/annotations/20240222_074155_SN26_QUICKVIEW_VISUAL_1_1_10_SATL-2KM-39N_562_2792.txt', '/Users/jakobspreng/Desktop/session_4/annotations/20240201_075140_SN26_QUICKVIEW_VISUAL_1_1_10_SATL-2KM-39N_560_2792.txt', '/Users/jakobspreng/Desktop/session_4/annotations/20240213_212524_SN29_QUICKVIEW_VISUAL_1_1_10_SATL-2KM-11N_544_3742.txt', '/Users/jakobspreng/Desktop/session_4/annotations/20240213_212524_SN29_QUICKVIEW_VISUAL_1_1_10_SATL-2KM-11N_540_3748.txt', '/Users/jakobspreng/Desktop/session_4/annotations/20240219_214312_SN28_QUICKVIEW_VISUAL_1_1_10_SATL-2KM-11N_252_3954.txt', '/Users/jakobspreng/Desktop/session_4/annotations/20240201_075140_SN26_QUICKVIEW_VISUAL_1_1_10_SATL-2KM-39N_560_2794.txt', '/Users/jakobspreng/Desktop/session_4/annotations/20240216_213630_SN31_QUICKVIEW_VISUAL_1_1_10_SATL-2KM-11N_418_3724.txt', '/Users/jakobspreng/Desktop/session_4/annotations/20240222_074151_SN26_QUICKVIEW_VISUAL_1_1_10_SATL-2KM-39N_558_2796.txt', '/Users/jakobspreng/Desktop/session_4/annotations/20240201_075140_SN26_QUICKVIEW_VISUAL_1_1_10_SATL-2KM-39N_560_2796.txt', '/Users/jakobspreng/Desktop/session_4/annotations/20240208_184650_SN24_QUICKVIEW_VISUAL_1_1_10_SATL-2KM-11N_624_3632.txt', '/Users/jakobspreng/Desktop/session_4/annotations/20240214_184340_SN24_QUICKVIEW_VISUAL_1_1_10_SATL-2KM-11N_688_3630.txt', '/Users/jakobspreng/Desktop/session_4/annotations/20240212_213506_SN31_QUICKVIEW_VISUAL_1_1_10_SATL-2KM-11N_408_3712.txt', '/Users/jakobspreng/Desktop/session_4/annotations/20240222_074155_SN26_QUICKVIEW_VISUAL_1_1_10_SATL-2KM-39N_560_2792.txt', '/Users/jakobspreng/Desktop/session_4/annotations/20240222_212250_SN30_QUICKVIEW_VISUAL_1_1_10_SATL-2KM-11N_382_3722.txt', '/Users/jakobspreng/Desktop/session_4/annotations/20240221_190608_SN26_QUICKVIEW_VISUAL_1_1_10_SATL-2KM-11N_380_3764.txt', '/Users/jakobspreng/Desktop/session_4/annotations/20240209_212744_SN29_QUICKVIEW_VISUAL_1_1_10_SATL-2KM-11N_380_3722.txt', '/Users/jakobspreng/Desktop/session_4/annotations/20240222_074151_SN26_QUICKVIEW_VISUAL_1_1_10_SATL-2KM-39N_556_2794.txt', '/Users/jakobspreng/Desktop/session_4/annotations/20240202_191114_SN27_QUICKVIEW_VISUAL_1_1_10_SATL-2KM-11N_718_3608.txt', '/Users/jakobspreng/Desktop/session_4/annotations/20240202_184725_SN24_QUICKVIEW_VISUAL_1_1_10_SATL-2KM-11N_624_3630.txt', '/Users/jakobspreng/Desktop/session_4/annotations/20240222_074151_SN26_QUICKVIEW_VISUAL_1_1_10_SATL-2KM-39N_562_2794.txt', '/Users/jakobspreng/Desktop/session_4/annotations/20240224_214855_SN30_QUICKVIEW_VISUAL_1_1_10_SATL-2KM-10N_552_4162.txt', '/Users/jakobspreng/Desktop/session_4/annotations/20240227_214218_SN30_QUICKVIEW_VISUAL_1_1_10_SATL-2KM-10N_562_4170.txt', '/Users/jakobspreng/Desktop/session_4/annotations/20240201_075140_SN26_QUICKVIEW_VISUAL_1_1_10_SATL-2KM-39N_556_2794.txt', '/Users/jakobspreng/Desktop/session_4/annotations/20240222_074155_SN26_QUICKVIEW_VISUAL_1_1_10_SATL-2KM-39N_558_2794.txt', '/Users/jakobspreng/Desktop/session_4/annotations/20240211_211057_SN30_QUICKVIEW_VISUAL_1_1_10_SATL-2KM-11N_700_3690.txt', '/Users/jakobspreng/Desktop/session_4/annotations/20240201_075140_SN26_QUICKVIEW_VISUAL_1_1_10_SATL-2KM-39N_562_2794.txt', '/Users/jakobspreng/Desktop/session_4/annotations/20240201_075143_SN26_QUICKVIEW_VISUAL_1_1_10_SATL-2KM-39N_562_2788.txt', '/Users/jakobspreng/Desktop/session_4/annotations/20240224_214855_SN30_QUICKVIEW_VISUAL_1_1_10_SATL-2KM-10N_554_4162.txt', '/Users/jakobspreng/Desktop/session_4/annotations/20240203_173953_SN33_QUICKVIEW_VISUAL_1_1_10_SATL-2KM-11N_366_3756.txt', '/Users/jakobspreng/Desktop/session_4/annotations/20240201_075140_SN26_QUICKVIEW_VISUAL_1_1_10_SATL-2KM-39N_556_2792.txt', '/Users/jakobspreng/Desktop/session_4/annotations/20240201_075140_SN26_QUICKVIEW_VISUAL_1_1_10_SATL-2KM-39N_562_2792.txt'], '2024-03': ['/Users/jakobspreng/Desktop/session_4/annotations/20240322_212516_SN28_QUICKVIEW_VISUAL_1_2_0_SATL-2KM-11N_502_3600.txt', '/Users/jakobspreng/Desktop/session_4/annotations/20240317_221229_SN31_QUICKVIEW_VISUAL_1_2_0_SATL-2KM-10N_556_4176.txt', '/Users/jakobspreng/Desktop/session_4/annotations/20240316_191451_SN26_QUICKVIEW_VISUAL_1_2_0_SATL-2KM-11N_380_3764.txt', '/Users/jakobspreng/Desktop/session_4/annotations/20240324_180232_SN33_QUICKVIEW_VISUAL_1_2_0_SATL-2KM-10N_554_4172.txt', '/Users/jakobspreng/Desktop/session_4/annotations/20240317_215115_SN28_QUICKVIEW_VISUAL_1_2_0_SATL-2KM-10N_554_4162.txt', '/Users/jakobspreng/Desktop/session_4/annotations/20240325_173936_SN33_QUICKVIEW_VISUAL_1_2_0_SATL-2KM-11N_378_3722.txt', '/Users/jakobspreng/Desktop/session_4/annotations/20240304_212824_SN30_QUICKVIEW_VISUAL_1_2_0_SATL-2KM-11N_378_3722.txt', '/Users/jakobspreng/Desktop/session_4/annotations/20240314_220020_SN30_QUICKVIEW_VISUAL_1_2_0_SATL-2KM-10N_544_4186.txt', '/Users/jakobspreng/Desktop/session_4/annotations/20240322_184801_SN24_QUICKVIEW_VISUAL_1_2_0_SATL-2KM-11N_500_3632.txt', '/Users/jakobspreng/Desktop/session_4/annotations/20240308_211248_SN29_QUICKVIEW_VISUAL_1_2_0_SATL-2KM-11N_718_3640.txt', '/Users/jakobspreng/Desktop/session_4/annotations/20240317_215115_SN28_QUICKVIEW_VISUAL_1_2_0_SATL-2KM-10N_552_4162.txt', '/Users/jakobspreng/Desktop/session_4/annotations/20240314_220020_SN30_QUICKVIEW_VISUAL_1_2_0_SATL-2KM-10N_550_4202.txt', '/Users/jakobspreng/Desktop/session_4/annotations/20240317_215115_SN28_QUICKVIEW_VISUAL_1_2_0_SATL-2KM-10N_552_4164.txt', '/Users/jakobspreng/Desktop/session_4/annotations/20240308_191212_SN27_QUICKVIEW_VISUAL_1_2_0_SATL-2KM-11N_506_3614.txt', '/Users/jakobspreng/Desktop/session_4/annotations/20240321_220846_SN31_QUICKVIEW_VISUAL_1_2_0_SATL-2KM-10N_560_4178.txt', '/Users/jakobspreng/Desktop/session_4/annotations/20240322_184801_SN24_QUICKVIEW_VISUAL_1_2_0_SATL-2KM-11N_502_3632.txt', '/Users/jakobspreng/Desktop/session_4/annotations/20240321_190819_SN27_QUICKVIEW_VISUAL_1_2_0_SATL-2KM-11N_714_3632.txt'], '2024-05': ['/Users/jakobspreng/Desktop/session_4/annotations/20240506_192008_SN26_QUICKVIEW_VISUAL_1_5_0_SATL-2KM-10N_562_4178.txt', '/Users/jakobspreng/Desktop/session_4/annotations/20240521_052621_SN43_QUICKVIEW_VISUAL_1_6_0_SATL-2KM-51N_730_4342.txt', '/Users/jakobspreng/Desktop/session_4/annotations/20240508_194502_SN27_QUICKVIEW_VISUAL_1_5_0_SATL-2KM-11N_264_4022.txt', '/Users/jakobspreng/Desktop/session_4/annotations/20240519_191838_SN27_QUICKVIEW_VISUAL_1_5_0_SATL-2KM-11N_718_3608.txt', '/Users/jakobspreng/Desktop/session_4/annotations/20240528_191448_SN24_QUICKVIEW_VISUAL_1_6_0_SATL-2KM-11N_248_4068.txt', '/Users/jakobspreng/Desktop/session_4/annotations/20240509_193206_SN26_QUICKVIEW_VISUAL_1_5_0_SATL-2KM-10N_562_4196.txt', '/Users/jakobspreng/Desktop/session_4/annotations/20240516_211630_SN28_QUICKVIEW_VISUAL_1_5_0_SATL-2KM-11N_716_3848.txt', '/Users/jakobspreng/Desktop/session_4/annotations/20240514_052716_SN43_QUICKVIEW_VISUAL_1_5_0_SATL-2KM-51N_730_4342.txt', '/Users/jakobspreng/Desktop/session_4/annotations/20240503_214759_SN28_QUICKVIEW_VISUAL_1_5_0_SATL-2KM-11N_376_3724.txt', '/Users/jakobspreng/Desktop/session_4/annotations/20240519_184534_SN24_QUICKVIEW_VISUAL_1_5_0_SATL-2KM-11N_658_3700.txt', '/Users/jakobspreng/Desktop/session_4/annotations/20240521_101252_SN43_QUICKVIEW_VISUAL_1_6_0_SATL-2KM-39N_556_2792.txt', '/Users/jakobspreng/Desktop/session_4/annotations/20240510_191914_SN27_QUICKVIEW_VISUAL_1_5_0_SATL-2KM-11N_712_3566.txt', '/Users/jakobspreng/Desktop/session_4/annotations/20240528_191604_SN24_QUICKVIEW_VISUAL_1_6_0_SATL-2KM-11N_344_3836.txt', '/Users/jakobspreng/Desktop/session_4/annotations/20240509_212336_SN29_QUICKVIEW_VISUAL_1_5_0_SATL-2KM-11N_706_3778.txt', '/Users/jakobspreng/Desktop/session_4/annotations/20240508_194502_SN27_QUICKVIEW_VISUAL_1_5_0_SATL-2KM-11N_262_4022.txt', '/Users/jakobspreng/Desktop/session_4/annotations/20240519_214917_SN31_QUICKVIEW_VISUAL_1_5_0_SATL-2KM-11N_500_3600.txt', '/Users/jakobspreng/Desktop/session_4/annotations/20240513_212022_SN29_QUICKVIEW_VISUAL_1_5_0_SATL-2KM-11N_630_3742.txt', '/Users/jakobspreng/Desktop/session_4/annotations/20240516_190328_SN24_QUICKVIEW_VISUAL_1_5_0_SATL-2KM-11N_262_4052.txt', '/Users/jakobspreng/Desktop/session_4/annotations/20240519_214917_SN31_QUICKVIEW_VISUAL_1_5_0_SATL-2KM-11N_500_3602.txt', '/Users/jakobspreng/Desktop/session_4/annotations/20240521_101252_SN43_QUICKVIEW_VISUAL_1_6_0_SATL-2KM-39N_558_2796.txt', '/Users/jakobspreng/Desktop/session_4/annotations/20240510_191908_SN27_QUICKVIEW_VISUAL_1_5_0_SATL-2KM-11N_718_3608.txt', '/Users/jakobspreng/Desktop/session_4/annotations/20240519_214917_SN31_QUICKVIEW_VISUAL_1_5_0_SATL-2KM-11N_500_3598.txt', '/Users/jakobspreng/Desktop/session_4/annotations/20240524_213504_SN29_QUICKVIEW_VISUAL_1_6_0_SATL-2KM-11N_380_3724.txt', '/Users/jakobspreng/Desktop/session_4/annotations/20240506_213507_SN43_QUICKVIEW_VISUAL_1_5_0_SATL-2KM-11N_384_3750.txt', '/Users/jakobspreng/Desktop/session_4/annotations/20240520_194539_SN27_QUICKVIEW_VISUAL_1_5_0_SATL-2KM-10N_638_4280.txt', '/Users/jakobspreng/Desktop/session_4/annotations/20240520_194539_SN27_QUICKVIEW_VISUAL_1_5_0_SATL-2KM-10N_638_4282.txt', '/Users/jakobspreng/Desktop/session_4/annotations/20240524_213504_SN29_QUICKVIEW_VISUAL_1_6_0_SATL-2KM-11N_378_3724.txt', '/Users/jakobspreng/Desktop/session_4/annotations/20240507_191326_SN27_QUICKVIEW_VISUAL_1_5_0_SATL-2KM-11N_718_3608.txt']}\n"
     ]
    }
   ],
   "source": [
    "import json\n",
    "month_files_dict = {}\n",
    "\n",
    "for file in annotations:\n",
    "    filename = os.path.basename(file)\n",
    "    date_str = filename[:8]\n",
    "    date_obj = datetime.strptime(date_str, \"%Y%m%d\")\n",
    "    year_month = date_obj.strftime(\"%Y-%m\")\n",
    "    \n",
    "    if year_month in month_files_dict:\n",
    "        month_files_dict[year_month].append(file)\n",
    "    else:\n",
    "        month_files_dict[year_month] = [file]\n",
    "\n",
    "with open('month_files.json', 'w') as json_file:\n",
    "    json.dump(month_files_dict, json_file, indent=4)\n",
    "\n",
    "with open('month_files.json', 'r') as json_file:\n",
    "    loaded_month_files = json.load(json_file)\n",
    "\n",
    "print(\"Loaded dictionary from JSON:\")\n",
    "for month, files in loaded_month_files.items():\n",
    "    print(f\"Month {month}: {len(files)} files\")\n",
    "    \n",
    "print(loaded_month_files)"
   ]
  },
  {
   "cell_type": "markdown",
   "id": "ddfc28fc",
   "metadata": {},
   "source": [
    "### b. Save it this time using Pickle.\n",
    "   "
   ]
  },
  {
   "cell_type": "code",
   "execution_count": 67,
   "id": "493760f3",
   "metadata": {},
   "outputs": [
    {
     "name": "stdout",
     "output_type": "stream",
     "text": [
      "Loaded dictionary from Pickle:\n",
      "Month 2024-01: 27 files\n",
      "Month 2024-06: 52 files\n",
      "Month 2024-04: 37 files\n",
      "Month 2024-02: 45 files\n",
      "Month 2024-03: 17 files\n",
      "Month 2024-05: 28 files\n",
      "{'2024-01': ['/Users/jakobspreng/Desktop/session_4/annotations/20240102_185527_SN27_QUICKVIEW_VISUAL_1_1_10_SATL-2KM-11N_740_3850.txt', '/Users/jakobspreng/Desktop/session_4/annotations/20240101_174301_SN33_QUICKVIEW_VISUAL_1_1_10_SATL-2KM-11N_404_3770.txt', '/Users/jakobspreng/Desktop/session_4/annotations/20240101_192856_SN24_QUICKVIEW_VISUAL_1_1_10_SATL-2KM-10N_552_4164.txt', '/Users/jakobspreng/Desktop/session_4/annotations/20240102_185954_SN24_QUICKVIEW_VISUAL_1_1_10_SATL-2KM-11N_414_3786.txt', '/Users/jakobspreng/Desktop/session_4/annotations/20240104_220339_SN31_QUICKVIEW_VISUAL_1_1_10_SATL-2KM-10N_556_4178.txt', '/Users/jakobspreng/Desktop/session_4/annotations/20240115_213834_SN28_QUICKVIEW_VISUAL_1_1_10_SATL-2KM-11N_376_3722.txt', '/Users/jakobspreng/Desktop/session_4/annotations/20240126_173752_SN33_QUICKVIEW_VISUAL_1_1_10_SATL-2KM-11N_386_3722.txt', '/Users/jakobspreng/Desktop/session_4/annotations/20240101_174301_SN33_QUICKVIEW_VISUAL_1_1_10_SATL-2KM-11N_404_3772.txt', '/Users/jakobspreng/Desktop/session_4/annotations/20240130_173903_SN33_QUICKVIEW_VISUAL_1_1_10_SATL-2KM-11N_366_3756.txt', '/Users/jakobspreng/Desktop/session_4/annotations/20240127_190620_SN27_QUICKVIEW_VISUAL_1_1_10_SATL-2KM-11N_500_3600.txt', '/Users/jakobspreng/Desktop/session_4/annotations/20240101_192856_SN24_QUICKVIEW_VISUAL_1_1_10_SATL-2KM-10N_552_4162.txt', '/Users/jakobspreng/Desktop/session_4/annotations/20240127_190620_SN27_QUICKVIEW_VISUAL_1_1_10_SATL-2KM-11N_500_3602.txt', '/Users/jakobspreng/Desktop/session_4/annotations/20240101_192856_SN24_QUICKVIEW_VISUAL_1_1_10_SATL-2KM-10N_554_4162.txt', '/Users/jakobspreng/Desktop/session_4/annotations/20240101_213601_SN31_QUICKVIEW_VISUAL_1_1_10_SATL-2KM-11N_392_3740.txt', '/Users/jakobspreng/Desktop/session_4/annotations/20240101_213601_SN31_QUICKVIEW_VISUAL_1_1_10_SATL-2KM-11N_392_3742.txt', '/Users/jakobspreng/Desktop/session_4/annotations/20240128_213258_SN29_QUICKVIEW_VISUAL_1_1_10_SATL-2KM-11N_418_3864.txt', '/Users/jakobspreng/Desktop/session_4/annotations/20240128_213258_SN29_QUICKVIEW_VISUAL_1_1_10_SATL-2KM-11N_418_3862.txt', '/Users/jakobspreng/Desktop/session_4/annotations/20240130_215036_SN31_QUICKVIEW_VISUAL_1_1_10_SATL-2KM-11N_366_3756.txt', '/Users/jakobspreng/Desktop/session_4/annotations/20240127_190620_SN27_QUICKVIEW_VISUAL_1_1_10_SATL-2KM-11N_502_3602.txt', '/Users/jakobspreng/Desktop/session_4/annotations/20240127_190620_SN27_QUICKVIEW_VISUAL_1_1_10_SATL-2KM-11N_502_3600.txt', '/Users/jakobspreng/Desktop/session_4/annotations/20240130_173903_SN33_QUICKVIEW_VISUAL_1_1_10_SATL-2KM-11N_360_3748.txt', '/Users/jakobspreng/Desktop/session_4/annotations/20240130_173903_SN33_QUICKVIEW_VISUAL_1_1_10_SATL-2KM-11N_364_3754.txt', '/Users/jakobspreng/Desktop/session_4/annotations/20240101_213601_SN31_QUICKVIEW_VISUAL_1_1_10_SATL-2KM-11N_396_3752.txt', '/Users/jakobspreng/Desktop/session_4/annotations/20240112_192510_SN27_QUICKVIEW_VISUAL_1_1_10_SATL-2KM-11N_386_3750.txt', '/Users/jakobspreng/Desktop/session_4/annotations/20240115_213834_SN28_QUICKVIEW_VISUAL_1_1_10_SATL-2KM-11N_380_3724.txt', '/Users/jakobspreng/Desktop/session_4/annotations/20240110_192002_SN27_QUICKVIEW_VISUAL_1_1_10_SATL-2KM-11N_380_3728.txt', '/Users/jakobspreng/Desktop/session_4/annotations/20240102_185605_SN27_QUICKVIEW_VISUAL_1_1_10_SATL-2KM-11N_690_3572.txt'], '2024-06': ['/Users/jakobspreng/Desktop/session_4/annotations/20240623_193704_SN27_QUICKVIEW_VISUAL_1_7_0_SATL-2KM-11N_566_3734.txt', '/Users/jakobspreng/Desktop/session_4/annotations/20240603_215226_SN28_QUICKVIEW_VISUAL_1_6_0_SATL-2KM-11N_248_4068.txt', '/Users/jakobspreng/Desktop/session_4/annotations/20240603_215348_SN28_QUICKVIEW_VISUAL_1_6_0_SATL-2KM-11N_346_3786.txt', '/Users/jakobspreng/Desktop/session_4/annotations/20240616_213053_SN30_QUICKVIEW_VISUAL_1_7_0_SATL-2KM-11N_460_3792.txt', '/Users/jakobspreng/Desktop/session_4/annotations/20240611_025943_SN26_QUICKVIEW_VISUAL_1_7_0_SATL-2KM-51N_748_4366.txt', '/Users/jakobspreng/Desktop/session_4/annotations/20240612_185400_SN24_QUICKVIEW_VISUAL_1_7_0_SATL-2KM-11N_574_3714.txt', '/Users/jakobspreng/Desktop/session_4/annotations/20240619_185757_SN24_QUICKVIEW_VISUAL_1_7_0_SATL-2KM-11N_528_3700.txt', '/Users/jakobspreng/Desktop/session_4/annotations/20240619_052401_SN30_QUICKVIEW_VISUAL_1_7_0_SATL-2KM-52N_368_4336.txt', '/Users/jakobspreng/Desktop/session_4/annotations/20240616_213047_SN30_QUICKVIEW_VISUAL_1_7_0_SATL-2KM-11N_464_3830.txt', '/Users/jakobspreng/Desktop/session_4/annotations/20240616_102144_SN28_QUICKVIEW_VISUAL_1_7_0_SATL-2KM-39N_560_2792.txt', '/Users/jakobspreng/Desktop/session_4/annotations/20240617_052859_SN29_QUICKVIEW_VISUAL_1_7_0_SATL-2KM-51N_730_4348.txt', '/Users/jakobspreng/Desktop/session_4/annotations/20240608_214614_SN29_QUICKVIEW_VISUAL_1_7_0_SATL-2KM-11N_248_4068.txt', '/Users/jakobspreng/Desktop/session_4/annotations/20240617_211350_SN29_QUICKVIEW_VISUAL_1_7_0_SATL-2KM-11N_724_3614.txt', '/Users/jakobspreng/Desktop/session_4/annotations/20240606_180251_SN33_QUICKVIEW_VISUAL_1_7_0_SATL-2KM-10N_556_4180.txt', '/Users/jakobspreng/Desktop/session_4/annotations/20240613_214203_SN43_QUICKVIEW_VISUAL_1_7_0_SATL-2KM-11N_384_3750.txt', '/Users/jakobspreng/Desktop/session_4/annotations/20240611_025943_SN26_QUICKVIEW_VISUAL_1_7_0_SATL-2KM-51N_748_4364.txt', '/Users/jakobspreng/Desktop/session_4/annotations/20240616_081345_SN27_QUICKVIEW_VISUAL_1_7_0_SATL-2KM-39N_562_2794.txt', '/Users/jakobspreng/Desktop/session_4/annotations/20240609_214259_SN30_QUICKVIEW_VISUAL_1_7_0_SATL-2KM-11N_262_4052.txt', '/Users/jakobspreng/Desktop/session_4/annotations/20240604_214955_SN29_QUICKVIEW_VISUAL_1_7_0_SATL-2KM-10N_594_4136.txt', '/Users/jakobspreng/Desktop/session_4/annotations/20240613_192217_SN26_QUICKVIEW_VISUAL_1_7_0_SATL-2KM-10N_560_4178.txt', '/Users/jakobspreng/Desktop/session_4/annotations/20240615_173631_SN33_QUICKVIEW_VISUAL_1_7_0_SATL-2KM-11N_546_3742.txt', '/Users/jakobspreng/Desktop/session_4/annotations/20240623_215120_SN29_QUICKVIEW_VISUAL_1_7_0_SATL-2KM-10N_596_4134.txt', '/Users/jakobspreng/Desktop/session_4/annotations/20240612_185400_SN24_QUICKVIEW_VISUAL_1_7_0_SATL-2KM-11N_576_3720.txt', '/Users/jakobspreng/Desktop/session_4/annotations/20240612_053829_SN28_QUICKVIEW_VISUAL_1_7_0_SATL-2KM-51N_686_4422.txt', '/Users/jakobspreng/Desktop/session_4/annotations/20240616_102144_SN28_QUICKVIEW_VISUAL_1_7_0_SATL-2KM-39N_558_2794.txt', '/Users/jakobspreng/Desktop/session_4/annotations/20240616_081345_SN27_QUICKVIEW_VISUAL_1_7_0_SATL-2KM-39N_562_2792.txt', '/Users/jakobspreng/Desktop/session_4/annotations/20240616_213047_SN30_QUICKVIEW_VISUAL_1_7_0_SATL-2KM-11N_466_3828.txt', '/Users/jakobspreng/Desktop/session_4/annotations/20240619_215556_SN29_QUICKVIEW_VISUAL_1_7_0_SATL-2KM-10N_742_4460.txt', '/Users/jakobspreng/Desktop/session_4/annotations/20240611_215323_SN30_QUICKVIEW_VISUAL_1_7_0_SATL-2KM-10N_702_3948.txt', '/Users/jakobspreng/Desktop/session_4/annotations/20240613_053340_SN29_QUICKVIEW_VISUAL_1_7_0_SATL-2KM-51N_728_4342.txt', '/Users/jakobspreng/Desktop/session_4/annotations/20240612_185419_SN24_QUICKVIEW_VISUAL_1_7_0_SATL-2KM-11N_554_3610.txt', '/Users/jakobspreng/Desktop/session_4/annotations/20240612_053829_SN28_QUICKVIEW_VISUAL_1_7_0_SATL-2KM-51N_688_4420.txt', '/Users/jakobspreng/Desktop/session_4/annotations/20240616_213047_SN30_QUICKVIEW_VISUAL_1_7_0_SATL-2KM-11N_466_3826.txt', '/Users/jakobspreng/Desktop/session_4/annotations/20240612_185400_SN24_QUICKVIEW_VISUAL_1_7_0_SATL-2KM-11N_578_3722.txt', '/Users/jakobspreng/Desktop/session_4/annotations/20240610_191018_SN26_QUICKVIEW_VISUAL_1_7_0_SATL-2KM-11N_384_3750.txt', '/Users/jakobspreng/Desktop/session_4/annotations/20240613_053340_SN29_QUICKVIEW_VISUAL_1_7_0_SATL-2KM-51N_730_4342.txt', '/Users/jakobspreng/Desktop/session_4/annotations/20240616_102144_SN28_QUICKVIEW_VISUAL_1_7_0_SATL-2KM-39N_556_2794.txt', '/Users/jakobspreng/Desktop/session_4/annotations/20240618_215539_SN31_QUICKVIEW_VISUAL_1_7_0_SATL-2KM-11N_452_3740.txt', '/Users/jakobspreng/Desktop/session_4/annotations/20240623_215102_SN43_QUICKVIEW_VISUAL_1_7_0_SATL-2KM-11N_384_3750.txt', '/Users/jakobspreng/Desktop/session_4/annotations/20240607_200250_SN27_QUICKVIEW_VISUAL_1_7_0_SATL-2KM-10N_554_4172.txt', '/Users/jakobspreng/Desktop/session_4/annotations/20240618_215539_SN31_QUICKVIEW_VISUAL_1_7_0_SATL-2KM-11N_458_3756.txt', '/Users/jakobspreng/Desktop/session_4/annotations/20240602_215203_SN30_QUICKVIEW_VISUAL_1_6_0_SATL-2KM-10N_714_3948.txt', '/Users/jakobspreng/Desktop/session_4/annotations/20240617_184443_SN24_QUICKVIEW_VISUAL_1_7_0_SATL-2KM-11N_702_3566.txt', '/Users/jakobspreng/Desktop/session_4/annotations/20240602_215203_SN30_QUICKVIEW_VISUAL_1_6_0_SATL-2KM-10N_712_3948.txt', '/Users/jakobspreng/Desktop/session_4/annotations/20240616_081345_SN27_QUICKVIEW_VISUAL_1_7_0_SATL-2KM-39N_560_2792.txt', '/Users/jakobspreng/Desktop/session_4/annotations/20240616_213047_SN30_QUICKVIEW_VISUAL_1_7_0_SATL-2KM-11N_464_3828.txt', '/Users/jakobspreng/Desktop/session_4/annotations/20240618_193146_SN27_QUICKVIEW_VISUAL_1_7_0_SATL-2KM-11N_530_3682.txt', '/Users/jakobspreng/Desktop/session_4/annotations/20240614_221436_SN31_QUICKVIEW_VISUAL_1_7_0_SATL-2KM-10N_558_4184.txt', '/Users/jakobspreng/Desktop/session_4/annotations/20240605_212717_SN29_QUICKVIEW_VISUAL_1_7_0_SATL-2KM-11N_718_3608.txt', '/Users/jakobspreng/Desktop/session_4/annotations/20240609_191744_SN24_QUICKVIEW_VISUAL_1_7_0_SATL-2KM-10N_564_4194.txt', '/Users/jakobspreng/Desktop/session_4/annotations/20240616_081345_SN27_QUICKVIEW_VISUAL_1_7_0_SATL-2KM-39N_560_2794.txt', '/Users/jakobspreng/Desktop/session_4/annotations/20240609_191959_SN27_QUICKVIEW_VISUAL_1_7_0_SATL-2KM-11N_702_3540.txt'], '2024-04': ['/Users/jakobspreng/Desktop/session_4/annotations/20240402_184757_SN24_QUICKVIEW_VISUAL_1_2_0_SATL-2KM-11N_488_3638.txt', '/Users/jakobspreng/Desktop/session_4/annotations/20240423_190101_SN26_QUICKVIEW_VISUAL_1_5_0_SATL-2KM-11N_418_3872.txt', '/Users/jakobspreng/Desktop/session_4/annotations/20240402_184757_SN24_QUICKVIEW_VISUAL_1_2_0_SATL-2KM-11N_486_3630.txt', '/Users/jakobspreng/Desktop/session_4/annotations/20240405_183824_409694_MS_NS24_QUICKVIEW_VISUAL_1_3_0_SATL-2KM-11N_736_3716.txt', '/Users/jakobspreng/Desktop/session_4/annotations/20240418_213446_163074_MS_NS28_QUICKVIEW_VISUAL_1_3_0_SATL-2KM-11N_388_3748.txt', '/Users/jakobspreng/Desktop/session_4/annotations/20240417_215406_715231_MS_NS43_QUICKVIEW_VISUAL_1_3_0_SATL-2KM-10N_740_4446.txt', '/Users/jakobspreng/Desktop/session_4/annotations/20240423_190101_SN26_QUICKVIEW_VISUAL_1_5_0_SATL-2KM-11N_418_3864.txt', '/Users/jakobspreng/Desktop/session_4/annotations/20240401_221819_SN31_QUICKVIEW_VISUAL_1_2_0_SATL-2KM-10N_602_4148.txt', '/Users/jakobspreng/Desktop/session_4/annotations/20240423_190101_SN26_QUICKVIEW_VISUAL_1_5_0_SATL-2KM-11N_418_3860.txt', '/Users/jakobspreng/Desktop/session_4/annotations/20240412_191539_631044_MS_NS24_QUICKVIEW_VISUAL_1_3_0_SATL-2KM-11N_258_4036.txt', '/Users/jakobspreng/Desktop/session_4/annotations/20240402_184757_SN24_QUICKVIEW_VISUAL_1_2_0_SATL-2KM-11N_486_3636.txt', '/Users/jakobspreng/Desktop/session_4/annotations/20240423_190101_SN26_QUICKVIEW_VISUAL_1_5_0_SATL-2KM-11N_418_3862.txt', '/Users/jakobspreng/Desktop/session_4/annotations/20240410_214321_024179_MS_NS30_QUICKVIEW_VISUAL_1_3_0_SATL-2KM-11N_296_3786.txt', '/Users/jakobspreng/Desktop/session_4/annotations/20240428_215426_SN43_QUICKVIEW_VISUAL_1_5_0_SATL-2KM-10N_630_4264.txt', '/Users/jakobspreng/Desktop/session_4/annotations/20240427_221308_SN31_QUICKVIEW_VISUAL_1_5_0_SATL-2KM-10N_722_3848.txt', '/Users/jakobspreng/Desktop/session_4/annotations/20240410_214305_399233_MS_NS43_QUICKVIEW_VISUAL_1_3_0_SATL-2KM-11N_380_3764.txt', '/Users/jakobspreng/Desktop/session_4/annotations/20240423_190101_SN26_QUICKVIEW_VISUAL_1_5_0_SATL-2KM-11N_414_3862.txt', '/Users/jakobspreng/Desktop/session_4/annotations/20240401_032415_SN27_QUICKVIEW_VISUAL_1_2_0_SATL-2KM-51N_688_4420.txt', '/Users/jakobspreng/Desktop/session_4/annotations/20240408_211552_958249_MS_NS29_QUICKVIEW_VISUAL_1_3_0_SATL-2KM-11N_734_3742.txt', '/Users/jakobspreng/Desktop/session_4/annotations/20240428_215426_SN43_QUICKVIEW_VISUAL_1_5_0_SATL-2KM-10N_630_4262.txt', '/Users/jakobspreng/Desktop/session_4/annotations/20240428_215426_SN43_QUICKVIEW_VISUAL_1_5_0_SATL-2KM-10N_634_4282.txt', '/Users/jakobspreng/Desktop/session_4/annotations/20240412_191539_377035_MS_NS24_QUICKVIEW_VISUAL_1_3_0_SATL-2KM-11N_258_4038.txt', '/Users/jakobspreng/Desktop/session_4/annotations/20240401_175918_SN33_QUICKVIEW_VISUAL_1_2_0_SATL-2KM-10N_542_4168.txt', '/Users/jakobspreng/Desktop/session_4/annotations/20240412_191549_672087_MS_NS24_QUICKVIEW_VISUAL_1_3_0_SATL-2KM-11N_240_3966.txt', '/Users/jakobspreng/Desktop/session_4/annotations/20240426_215224_SN29_QUICKVIEW_VISUAL_1_5_0_SATL-2KM-11N_244_3818.txt', '/Users/jakobspreng/Desktop/session_4/annotations/20240401_175918_SN33_QUICKVIEW_VISUAL_1_2_0_SATL-2KM-10N_546_4206.txt', '/Users/jakobspreng/Desktop/session_4/annotations/20240407_190149_742846_MS_NS24_QUICKVIEW_VISUAL_1_3_0_SATL-2KM-11N_258_4028.txt', '/Users/jakobspreng/Desktop/session_4/annotations/20240402_215427_SN31_QUICKVIEW_VISUAL_1_2_0_SATL-2KM-11N_502_3600.txt', '/Users/jakobspreng/Desktop/session_4/annotations/20240428_215557_SN43_QUICKVIEW_VISUAL_1_5_0_SATL-2KM-10N_726_3862.txt', '/Users/jakobspreng/Desktop/session_4/annotations/20240423_190101_SN26_QUICKVIEW_VISUAL_1_5_0_SATL-2KM-11N_416_3864.txt', '/Users/jakobspreng/Desktop/session_4/annotations/20240420_181053_341939_MS_NS33_QUICKVIEW_VISUAL_1_3_0_SATL-2KM-10N_556_4180.txt', '/Users/jakobspreng/Desktop/session_4/annotations/20240402_184757_SN24_QUICKVIEW_VISUAL_1_2_0_SATL-2KM-11N_490_3638.txt', '/Users/jakobspreng/Desktop/session_4/annotations/20240412_052750_556466_MS_NS29_QUICKVIEW_VISUAL_1_3_0_SATL-2KM-51N_688_4420.txt', '/Users/jakobspreng/Desktop/session_4/annotations/20240428_191026_SN24_QUICKVIEW_VISUAL_1_5_0_SATL-2KM-11N_380_3722.txt', '/Users/jakobspreng/Desktop/session_4/annotations/20240401_175925_SN33_QUICKVIEW_VISUAL_1_2_0_SATL-2KM-10N_542_4168.txt', '/Users/jakobspreng/Desktop/session_4/annotations/20240402_215421_SN31_QUICKVIEW_VISUAL_1_2_0_SATL-2KM-11N_500_3632.txt', '/Users/jakobspreng/Desktop/session_4/annotations/20240423_190101_SN26_QUICKVIEW_VISUAL_1_5_0_SATL-2KM-11N_416_3862.txt'], '2024-02': ['/Users/jakobspreng/Desktop/session_4/annotations/20240201_075140_SN26_QUICKVIEW_VISUAL_1_1_10_SATL-2KM-39N_558_2794.txt', '/Users/jakobspreng/Desktop/session_4/annotations/20240222_074151_SN26_QUICKVIEW_VISUAL_1_1_10_SATL-2KM-39N_560_2794.txt', '/Users/jakobspreng/Desktop/session_4/annotations/20240218_180121_SN33_QUICKVIEW_VISUAL_1_1_10_SATL-2KM-10N_568_4176.txt', '/Users/jakobspreng/Desktop/session_4/annotations/20240213_212524_SN29_QUICKVIEW_VISUAL_1_1_10_SATL-2KM-11N_542_3750.txt', '/Users/jakobspreng/Desktop/session_4/annotations/20240222_074155_SN26_QUICKVIEW_VISUAL_1_1_10_SATL-2KM-39N_556_2794.txt', '/Users/jakobspreng/Desktop/session_4/annotations/20240222_074155_SN26_QUICKVIEW_VISUAL_1_1_10_SATL-2KM-39N_562_2794.txt', '/Users/jakobspreng/Desktop/session_4/annotations/20240222_074151_SN26_QUICKVIEW_VISUAL_1_1_10_SATL-2KM-39N_560_2796.txt', '/Users/jakobspreng/Desktop/session_4/annotations/20240220_190455_SN27_QUICKVIEW_VISUAL_1_1_10_SATL-2KM-11N_718_3608.txt', '/Users/jakobspreng/Desktop/session_4/annotations/20240203_173953_SN33_QUICKVIEW_VISUAL_1_1_10_SATL-2KM-11N_368_3756.txt', '/Users/jakobspreng/Desktop/session_4/annotations/20240222_074256_SN26_QUICKVIEW_VISUAL_1_1_10_SATL-2KM-39N_564_2790.txt', '/Users/jakobspreng/Desktop/session_4/annotations/20240222_074155_SN26_QUICKVIEW_VISUAL_1_1_10_SATL-2KM-39N_556_2792.txt', '/Users/jakobspreng/Desktop/session_4/annotations/20240201_075143_SN26_QUICKVIEW_VISUAL_1_1_10_SATL-2KM-39N_556_2792.txt', '/Users/jakobspreng/Desktop/session_4/annotations/20240223_025420_SN24_QUICKVIEW_VISUAL_1_1_10_SATL-2KM-51N_686_4422.txt', '/Users/jakobspreng/Desktop/session_4/annotations/20240228_213951_SN29_QUICKVIEW_VISUAL_1_1_10_SATL-2KM-11N_248_4068.txt', '/Users/jakobspreng/Desktop/session_4/annotations/20240222_074155_SN26_QUICKVIEW_VISUAL_1_1_10_SATL-2KM-39N_562_2792.txt', '/Users/jakobspreng/Desktop/session_4/annotations/20240201_075140_SN26_QUICKVIEW_VISUAL_1_1_10_SATL-2KM-39N_560_2792.txt', '/Users/jakobspreng/Desktop/session_4/annotations/20240213_212524_SN29_QUICKVIEW_VISUAL_1_1_10_SATL-2KM-11N_544_3742.txt', '/Users/jakobspreng/Desktop/session_4/annotations/20240213_212524_SN29_QUICKVIEW_VISUAL_1_1_10_SATL-2KM-11N_540_3748.txt', '/Users/jakobspreng/Desktop/session_4/annotations/20240219_214312_SN28_QUICKVIEW_VISUAL_1_1_10_SATL-2KM-11N_252_3954.txt', '/Users/jakobspreng/Desktop/session_4/annotations/20240201_075140_SN26_QUICKVIEW_VISUAL_1_1_10_SATL-2KM-39N_560_2794.txt', '/Users/jakobspreng/Desktop/session_4/annotations/20240216_213630_SN31_QUICKVIEW_VISUAL_1_1_10_SATL-2KM-11N_418_3724.txt', '/Users/jakobspreng/Desktop/session_4/annotations/20240222_074151_SN26_QUICKVIEW_VISUAL_1_1_10_SATL-2KM-39N_558_2796.txt', '/Users/jakobspreng/Desktop/session_4/annotations/20240201_075140_SN26_QUICKVIEW_VISUAL_1_1_10_SATL-2KM-39N_560_2796.txt', '/Users/jakobspreng/Desktop/session_4/annotations/20240208_184650_SN24_QUICKVIEW_VISUAL_1_1_10_SATL-2KM-11N_624_3632.txt', '/Users/jakobspreng/Desktop/session_4/annotations/20240214_184340_SN24_QUICKVIEW_VISUAL_1_1_10_SATL-2KM-11N_688_3630.txt', '/Users/jakobspreng/Desktop/session_4/annotations/20240212_213506_SN31_QUICKVIEW_VISUAL_1_1_10_SATL-2KM-11N_408_3712.txt', '/Users/jakobspreng/Desktop/session_4/annotations/20240222_074155_SN26_QUICKVIEW_VISUAL_1_1_10_SATL-2KM-39N_560_2792.txt', '/Users/jakobspreng/Desktop/session_4/annotations/20240222_212250_SN30_QUICKVIEW_VISUAL_1_1_10_SATL-2KM-11N_382_3722.txt', '/Users/jakobspreng/Desktop/session_4/annotations/20240221_190608_SN26_QUICKVIEW_VISUAL_1_1_10_SATL-2KM-11N_380_3764.txt', '/Users/jakobspreng/Desktop/session_4/annotations/20240209_212744_SN29_QUICKVIEW_VISUAL_1_1_10_SATL-2KM-11N_380_3722.txt', '/Users/jakobspreng/Desktop/session_4/annotations/20240222_074151_SN26_QUICKVIEW_VISUAL_1_1_10_SATL-2KM-39N_556_2794.txt', '/Users/jakobspreng/Desktop/session_4/annotations/20240202_191114_SN27_QUICKVIEW_VISUAL_1_1_10_SATL-2KM-11N_718_3608.txt', '/Users/jakobspreng/Desktop/session_4/annotations/20240202_184725_SN24_QUICKVIEW_VISUAL_1_1_10_SATL-2KM-11N_624_3630.txt', '/Users/jakobspreng/Desktop/session_4/annotations/20240222_074151_SN26_QUICKVIEW_VISUAL_1_1_10_SATL-2KM-39N_562_2794.txt', '/Users/jakobspreng/Desktop/session_4/annotations/20240224_214855_SN30_QUICKVIEW_VISUAL_1_1_10_SATL-2KM-10N_552_4162.txt', '/Users/jakobspreng/Desktop/session_4/annotations/20240227_214218_SN30_QUICKVIEW_VISUAL_1_1_10_SATL-2KM-10N_562_4170.txt', '/Users/jakobspreng/Desktop/session_4/annotations/20240201_075140_SN26_QUICKVIEW_VISUAL_1_1_10_SATL-2KM-39N_556_2794.txt', '/Users/jakobspreng/Desktop/session_4/annotations/20240222_074155_SN26_QUICKVIEW_VISUAL_1_1_10_SATL-2KM-39N_558_2794.txt', '/Users/jakobspreng/Desktop/session_4/annotations/20240211_211057_SN30_QUICKVIEW_VISUAL_1_1_10_SATL-2KM-11N_700_3690.txt', '/Users/jakobspreng/Desktop/session_4/annotations/20240201_075140_SN26_QUICKVIEW_VISUAL_1_1_10_SATL-2KM-39N_562_2794.txt', '/Users/jakobspreng/Desktop/session_4/annotations/20240201_075143_SN26_QUICKVIEW_VISUAL_1_1_10_SATL-2KM-39N_562_2788.txt', '/Users/jakobspreng/Desktop/session_4/annotations/20240224_214855_SN30_QUICKVIEW_VISUAL_1_1_10_SATL-2KM-10N_554_4162.txt', '/Users/jakobspreng/Desktop/session_4/annotations/20240203_173953_SN33_QUICKVIEW_VISUAL_1_1_10_SATL-2KM-11N_366_3756.txt', '/Users/jakobspreng/Desktop/session_4/annotations/20240201_075140_SN26_QUICKVIEW_VISUAL_1_1_10_SATL-2KM-39N_556_2792.txt', '/Users/jakobspreng/Desktop/session_4/annotations/20240201_075140_SN26_QUICKVIEW_VISUAL_1_1_10_SATL-2KM-39N_562_2792.txt'], '2024-03': ['/Users/jakobspreng/Desktop/session_4/annotations/20240322_212516_SN28_QUICKVIEW_VISUAL_1_2_0_SATL-2KM-11N_502_3600.txt', '/Users/jakobspreng/Desktop/session_4/annotations/20240317_221229_SN31_QUICKVIEW_VISUAL_1_2_0_SATL-2KM-10N_556_4176.txt', '/Users/jakobspreng/Desktop/session_4/annotations/20240316_191451_SN26_QUICKVIEW_VISUAL_1_2_0_SATL-2KM-11N_380_3764.txt', '/Users/jakobspreng/Desktop/session_4/annotations/20240324_180232_SN33_QUICKVIEW_VISUAL_1_2_0_SATL-2KM-10N_554_4172.txt', '/Users/jakobspreng/Desktop/session_4/annotations/20240317_215115_SN28_QUICKVIEW_VISUAL_1_2_0_SATL-2KM-10N_554_4162.txt', '/Users/jakobspreng/Desktop/session_4/annotations/20240325_173936_SN33_QUICKVIEW_VISUAL_1_2_0_SATL-2KM-11N_378_3722.txt', '/Users/jakobspreng/Desktop/session_4/annotations/20240304_212824_SN30_QUICKVIEW_VISUAL_1_2_0_SATL-2KM-11N_378_3722.txt', '/Users/jakobspreng/Desktop/session_4/annotations/20240314_220020_SN30_QUICKVIEW_VISUAL_1_2_0_SATL-2KM-10N_544_4186.txt', '/Users/jakobspreng/Desktop/session_4/annotations/20240322_184801_SN24_QUICKVIEW_VISUAL_1_2_0_SATL-2KM-11N_500_3632.txt', '/Users/jakobspreng/Desktop/session_4/annotations/20240308_211248_SN29_QUICKVIEW_VISUAL_1_2_0_SATL-2KM-11N_718_3640.txt', '/Users/jakobspreng/Desktop/session_4/annotations/20240317_215115_SN28_QUICKVIEW_VISUAL_1_2_0_SATL-2KM-10N_552_4162.txt', '/Users/jakobspreng/Desktop/session_4/annotations/20240314_220020_SN30_QUICKVIEW_VISUAL_1_2_0_SATL-2KM-10N_550_4202.txt', '/Users/jakobspreng/Desktop/session_4/annotations/20240317_215115_SN28_QUICKVIEW_VISUAL_1_2_0_SATL-2KM-10N_552_4164.txt', '/Users/jakobspreng/Desktop/session_4/annotations/20240308_191212_SN27_QUICKVIEW_VISUAL_1_2_0_SATL-2KM-11N_506_3614.txt', '/Users/jakobspreng/Desktop/session_4/annotations/20240321_220846_SN31_QUICKVIEW_VISUAL_1_2_0_SATL-2KM-10N_560_4178.txt', '/Users/jakobspreng/Desktop/session_4/annotations/20240322_184801_SN24_QUICKVIEW_VISUAL_1_2_0_SATL-2KM-11N_502_3632.txt', '/Users/jakobspreng/Desktop/session_4/annotations/20240321_190819_SN27_QUICKVIEW_VISUAL_1_2_0_SATL-2KM-11N_714_3632.txt'], '2024-05': ['/Users/jakobspreng/Desktop/session_4/annotations/20240506_192008_SN26_QUICKVIEW_VISUAL_1_5_0_SATL-2KM-10N_562_4178.txt', '/Users/jakobspreng/Desktop/session_4/annotations/20240521_052621_SN43_QUICKVIEW_VISUAL_1_6_0_SATL-2KM-51N_730_4342.txt', '/Users/jakobspreng/Desktop/session_4/annotations/20240508_194502_SN27_QUICKVIEW_VISUAL_1_5_0_SATL-2KM-11N_264_4022.txt', '/Users/jakobspreng/Desktop/session_4/annotations/20240519_191838_SN27_QUICKVIEW_VISUAL_1_5_0_SATL-2KM-11N_718_3608.txt', '/Users/jakobspreng/Desktop/session_4/annotations/20240528_191448_SN24_QUICKVIEW_VISUAL_1_6_0_SATL-2KM-11N_248_4068.txt', '/Users/jakobspreng/Desktop/session_4/annotations/20240509_193206_SN26_QUICKVIEW_VISUAL_1_5_0_SATL-2KM-10N_562_4196.txt', '/Users/jakobspreng/Desktop/session_4/annotations/20240516_211630_SN28_QUICKVIEW_VISUAL_1_5_0_SATL-2KM-11N_716_3848.txt', '/Users/jakobspreng/Desktop/session_4/annotations/20240514_052716_SN43_QUICKVIEW_VISUAL_1_5_0_SATL-2KM-51N_730_4342.txt', '/Users/jakobspreng/Desktop/session_4/annotations/20240503_214759_SN28_QUICKVIEW_VISUAL_1_5_0_SATL-2KM-11N_376_3724.txt', '/Users/jakobspreng/Desktop/session_4/annotations/20240519_184534_SN24_QUICKVIEW_VISUAL_1_5_0_SATL-2KM-11N_658_3700.txt', '/Users/jakobspreng/Desktop/session_4/annotations/20240521_101252_SN43_QUICKVIEW_VISUAL_1_6_0_SATL-2KM-39N_556_2792.txt', '/Users/jakobspreng/Desktop/session_4/annotations/20240510_191914_SN27_QUICKVIEW_VISUAL_1_5_0_SATL-2KM-11N_712_3566.txt', '/Users/jakobspreng/Desktop/session_4/annotations/20240528_191604_SN24_QUICKVIEW_VISUAL_1_6_0_SATL-2KM-11N_344_3836.txt', '/Users/jakobspreng/Desktop/session_4/annotations/20240509_212336_SN29_QUICKVIEW_VISUAL_1_5_0_SATL-2KM-11N_706_3778.txt', '/Users/jakobspreng/Desktop/session_4/annotations/20240508_194502_SN27_QUICKVIEW_VISUAL_1_5_0_SATL-2KM-11N_262_4022.txt', '/Users/jakobspreng/Desktop/session_4/annotations/20240519_214917_SN31_QUICKVIEW_VISUAL_1_5_0_SATL-2KM-11N_500_3600.txt', '/Users/jakobspreng/Desktop/session_4/annotations/20240513_212022_SN29_QUICKVIEW_VISUAL_1_5_0_SATL-2KM-11N_630_3742.txt', '/Users/jakobspreng/Desktop/session_4/annotations/20240516_190328_SN24_QUICKVIEW_VISUAL_1_5_0_SATL-2KM-11N_262_4052.txt', '/Users/jakobspreng/Desktop/session_4/annotations/20240519_214917_SN31_QUICKVIEW_VISUAL_1_5_0_SATL-2KM-11N_500_3602.txt', '/Users/jakobspreng/Desktop/session_4/annotations/20240521_101252_SN43_QUICKVIEW_VISUAL_1_6_0_SATL-2KM-39N_558_2796.txt', '/Users/jakobspreng/Desktop/session_4/annotations/20240510_191908_SN27_QUICKVIEW_VISUAL_1_5_0_SATL-2KM-11N_718_3608.txt', '/Users/jakobspreng/Desktop/session_4/annotations/20240519_214917_SN31_QUICKVIEW_VISUAL_1_5_0_SATL-2KM-11N_500_3598.txt', '/Users/jakobspreng/Desktop/session_4/annotations/20240524_213504_SN29_QUICKVIEW_VISUAL_1_6_0_SATL-2KM-11N_380_3724.txt', '/Users/jakobspreng/Desktop/session_4/annotations/20240506_213507_SN43_QUICKVIEW_VISUAL_1_5_0_SATL-2KM-11N_384_3750.txt', '/Users/jakobspreng/Desktop/session_4/annotations/20240520_194539_SN27_QUICKVIEW_VISUAL_1_5_0_SATL-2KM-10N_638_4280.txt', '/Users/jakobspreng/Desktop/session_4/annotations/20240520_194539_SN27_QUICKVIEW_VISUAL_1_5_0_SATL-2KM-10N_638_4282.txt', '/Users/jakobspreng/Desktop/session_4/annotations/20240524_213504_SN29_QUICKVIEW_VISUAL_1_6_0_SATL-2KM-11N_378_3724.txt', '/Users/jakobspreng/Desktop/session_4/annotations/20240507_191326_SN27_QUICKVIEW_VISUAL_1_5_0_SATL-2KM-11N_718_3608.txt']}\n"
     ]
    }
   ],
   "source": [
    "import pickle\n",
    "\n",
    "with open('month_files.pkl', 'wb') as pickle_file:\n",
    "    pickle.dump(month_files_dict, pickle_file)\n",
    "\n",
    "with open('month_files.pkl', 'rb') as pickle_file:\n",
    "    loaded_month_files_pickle = pickle.load(pickle_file)\n",
    "\n",
    "print(\"Loaded dictionary from Pickle:\")\n",
    "for month, files in loaded_month_files_pickle.items():\n",
    "    print(f\"Month {month}: {len(files)} files\")\n",
    "\n",
    "print(loaded_month_files_pickle)"
   ]
  },
  {
   "cell_type": "markdown",
   "id": "fccb5989",
   "metadata": {},
   "source": [
    "### c. Instead of storing a list of all the annotation names happening that month, let's create for each annotation a dictionary with keys: name and date (using a datetime object)."
   ]
  },
  {
   "cell_type": "code",
   "execution_count": 68,
   "id": "e7c8180a",
   "metadata": {},
   "outputs": [
    {
     "name": "stdout",
     "output_type": "stream",
     "text": [
      "{'2024-01': [{'name': '20240102_185527_SN27_QUICKVIEW_VISUAL_1_1_10_SATL-2KM-11N_740_3850.txt', 'date': datetime.datetime(2024, 1, 2, 18, 55, 27)}, {'name': '20240101_174301_SN33_QUICKVIEW_VISUAL_1_1_10_SATL-2KM-11N_404_3770.txt', 'date': datetime.datetime(2024, 1, 1, 17, 43, 1)}, {'name': '20240101_192856_SN24_QUICKVIEW_VISUAL_1_1_10_SATL-2KM-10N_552_4164.txt', 'date': datetime.datetime(2024, 1, 1, 19, 28, 56)}, {'name': '20240102_185954_SN24_QUICKVIEW_VISUAL_1_1_10_SATL-2KM-11N_414_3786.txt', 'date': datetime.datetime(2024, 1, 2, 18, 59, 54)}, {'name': '20240104_220339_SN31_QUICKVIEW_VISUAL_1_1_10_SATL-2KM-10N_556_4178.txt', 'date': datetime.datetime(2024, 1, 4, 22, 3, 39)}, {'name': '20240115_213834_SN28_QUICKVIEW_VISUAL_1_1_10_SATL-2KM-11N_376_3722.txt', 'date': datetime.datetime(2024, 1, 15, 21, 38, 34)}, {'name': '20240126_173752_SN33_QUICKVIEW_VISUAL_1_1_10_SATL-2KM-11N_386_3722.txt', 'date': datetime.datetime(2024, 1, 26, 17, 37, 52)}, {'name': '20240101_174301_SN33_QUICKVIEW_VISUAL_1_1_10_SATL-2KM-11N_404_3772.txt', 'date': datetime.datetime(2024, 1, 1, 17, 43, 1)}, {'name': '20240130_173903_SN33_QUICKVIEW_VISUAL_1_1_10_SATL-2KM-11N_366_3756.txt', 'date': datetime.datetime(2024, 1, 30, 17, 39, 3)}, {'name': '20240127_190620_SN27_QUICKVIEW_VISUAL_1_1_10_SATL-2KM-11N_500_3600.txt', 'date': datetime.datetime(2024, 1, 27, 19, 6, 20)}, {'name': '20240101_192856_SN24_QUICKVIEW_VISUAL_1_1_10_SATL-2KM-10N_552_4162.txt', 'date': datetime.datetime(2024, 1, 1, 19, 28, 56)}, {'name': '20240127_190620_SN27_QUICKVIEW_VISUAL_1_1_10_SATL-2KM-11N_500_3602.txt', 'date': datetime.datetime(2024, 1, 27, 19, 6, 20)}, {'name': '20240101_192856_SN24_QUICKVIEW_VISUAL_1_1_10_SATL-2KM-10N_554_4162.txt', 'date': datetime.datetime(2024, 1, 1, 19, 28, 56)}, {'name': '20240101_213601_SN31_QUICKVIEW_VISUAL_1_1_10_SATL-2KM-11N_392_3740.txt', 'date': datetime.datetime(2024, 1, 1, 21, 36, 1)}, {'name': '20240101_213601_SN31_QUICKVIEW_VISUAL_1_1_10_SATL-2KM-11N_392_3742.txt', 'date': datetime.datetime(2024, 1, 1, 21, 36, 1)}, {'name': '20240128_213258_SN29_QUICKVIEW_VISUAL_1_1_10_SATL-2KM-11N_418_3864.txt', 'date': datetime.datetime(2024, 1, 28, 21, 32, 58)}, {'name': '20240128_213258_SN29_QUICKVIEW_VISUAL_1_1_10_SATL-2KM-11N_418_3862.txt', 'date': datetime.datetime(2024, 1, 28, 21, 32, 58)}, {'name': '20240130_215036_SN31_QUICKVIEW_VISUAL_1_1_10_SATL-2KM-11N_366_3756.txt', 'date': datetime.datetime(2024, 1, 30, 21, 50, 36)}, {'name': '20240127_190620_SN27_QUICKVIEW_VISUAL_1_1_10_SATL-2KM-11N_502_3602.txt', 'date': datetime.datetime(2024, 1, 27, 19, 6, 20)}, {'name': '20240127_190620_SN27_QUICKVIEW_VISUAL_1_1_10_SATL-2KM-11N_502_3600.txt', 'date': datetime.datetime(2024, 1, 27, 19, 6, 20)}, {'name': '20240130_173903_SN33_QUICKVIEW_VISUAL_1_1_10_SATL-2KM-11N_360_3748.txt', 'date': datetime.datetime(2024, 1, 30, 17, 39, 3)}, {'name': '20240130_173903_SN33_QUICKVIEW_VISUAL_1_1_10_SATL-2KM-11N_364_3754.txt', 'date': datetime.datetime(2024, 1, 30, 17, 39, 3)}, {'name': '20240101_213601_SN31_QUICKVIEW_VISUAL_1_1_10_SATL-2KM-11N_396_3752.txt', 'date': datetime.datetime(2024, 1, 1, 21, 36, 1)}, {'name': '20240112_192510_SN27_QUICKVIEW_VISUAL_1_1_10_SATL-2KM-11N_386_3750.txt', 'date': datetime.datetime(2024, 1, 12, 19, 25, 10)}, {'name': '20240115_213834_SN28_QUICKVIEW_VISUAL_1_1_10_SATL-2KM-11N_380_3724.txt', 'date': datetime.datetime(2024, 1, 15, 21, 38, 34)}, {'name': '20240110_192002_SN27_QUICKVIEW_VISUAL_1_1_10_SATL-2KM-11N_380_3728.txt', 'date': datetime.datetime(2024, 1, 10, 19, 20, 2)}, {'name': '20240102_185605_SN27_QUICKVIEW_VISUAL_1_1_10_SATL-2KM-11N_690_3572.txt', 'date': datetime.datetime(2024, 1, 2, 18, 56, 5)}], '2024-06': [{'name': '20240623_193704_SN27_QUICKVIEW_VISUAL_1_7_0_SATL-2KM-11N_566_3734.txt', 'date': datetime.datetime(2024, 6, 23, 19, 37, 4)}, {'name': '20240603_215226_SN28_QUICKVIEW_VISUAL_1_6_0_SATL-2KM-11N_248_4068.txt', 'date': datetime.datetime(2024, 6, 3, 21, 52, 26)}, {'name': '20240603_215348_SN28_QUICKVIEW_VISUAL_1_6_0_SATL-2KM-11N_346_3786.txt', 'date': datetime.datetime(2024, 6, 3, 21, 53, 48)}, {'name': '20240616_213053_SN30_QUICKVIEW_VISUAL_1_7_0_SATL-2KM-11N_460_3792.txt', 'date': datetime.datetime(2024, 6, 16, 21, 30, 53)}, {'name': '20240611_025943_SN26_QUICKVIEW_VISUAL_1_7_0_SATL-2KM-51N_748_4366.txt', 'date': datetime.datetime(2024, 6, 11, 2, 59, 43)}, {'name': '20240612_185400_SN24_QUICKVIEW_VISUAL_1_7_0_SATL-2KM-11N_574_3714.txt', 'date': datetime.datetime(2024, 6, 12, 18, 54)}, {'name': '20240619_185757_SN24_QUICKVIEW_VISUAL_1_7_0_SATL-2KM-11N_528_3700.txt', 'date': datetime.datetime(2024, 6, 19, 18, 57, 57)}, {'name': '20240619_052401_SN30_QUICKVIEW_VISUAL_1_7_0_SATL-2KM-52N_368_4336.txt', 'date': datetime.datetime(2024, 6, 19, 5, 24, 1)}, {'name': '20240616_213047_SN30_QUICKVIEW_VISUAL_1_7_0_SATL-2KM-11N_464_3830.txt', 'date': datetime.datetime(2024, 6, 16, 21, 30, 47)}, {'name': '20240616_102144_SN28_QUICKVIEW_VISUAL_1_7_0_SATL-2KM-39N_560_2792.txt', 'date': datetime.datetime(2024, 6, 16, 10, 21, 44)}, {'name': '20240617_052859_SN29_QUICKVIEW_VISUAL_1_7_0_SATL-2KM-51N_730_4348.txt', 'date': datetime.datetime(2024, 6, 17, 5, 28, 59)}, {'name': '20240608_214614_SN29_QUICKVIEW_VISUAL_1_7_0_SATL-2KM-11N_248_4068.txt', 'date': datetime.datetime(2024, 6, 8, 21, 46, 14)}, {'name': '20240617_211350_SN29_QUICKVIEW_VISUAL_1_7_0_SATL-2KM-11N_724_3614.txt', 'date': datetime.datetime(2024, 6, 17, 21, 13, 50)}, {'name': '20240606_180251_SN33_QUICKVIEW_VISUAL_1_7_0_SATL-2KM-10N_556_4180.txt', 'date': datetime.datetime(2024, 6, 6, 18, 2, 51)}, {'name': '20240613_214203_SN43_QUICKVIEW_VISUAL_1_7_0_SATL-2KM-11N_384_3750.txt', 'date': datetime.datetime(2024, 6, 13, 21, 42, 3)}, {'name': '20240611_025943_SN26_QUICKVIEW_VISUAL_1_7_0_SATL-2KM-51N_748_4364.txt', 'date': datetime.datetime(2024, 6, 11, 2, 59, 43)}, {'name': '20240616_081345_SN27_QUICKVIEW_VISUAL_1_7_0_SATL-2KM-39N_562_2794.txt', 'date': datetime.datetime(2024, 6, 16, 8, 13, 45)}, {'name': '20240609_214259_SN30_QUICKVIEW_VISUAL_1_7_0_SATL-2KM-11N_262_4052.txt', 'date': datetime.datetime(2024, 6, 9, 21, 42, 59)}, {'name': '20240604_214955_SN29_QUICKVIEW_VISUAL_1_7_0_SATL-2KM-10N_594_4136.txt', 'date': datetime.datetime(2024, 6, 4, 21, 49, 55)}, {'name': '20240613_192217_SN26_QUICKVIEW_VISUAL_1_7_0_SATL-2KM-10N_560_4178.txt', 'date': datetime.datetime(2024, 6, 13, 19, 22, 17)}, {'name': '20240615_173631_SN33_QUICKVIEW_VISUAL_1_7_0_SATL-2KM-11N_546_3742.txt', 'date': datetime.datetime(2024, 6, 15, 17, 36, 31)}, {'name': '20240623_215120_SN29_QUICKVIEW_VISUAL_1_7_0_SATL-2KM-10N_596_4134.txt', 'date': datetime.datetime(2024, 6, 23, 21, 51, 20)}, {'name': '20240612_185400_SN24_QUICKVIEW_VISUAL_1_7_0_SATL-2KM-11N_576_3720.txt', 'date': datetime.datetime(2024, 6, 12, 18, 54)}, {'name': '20240612_053829_SN28_QUICKVIEW_VISUAL_1_7_0_SATL-2KM-51N_686_4422.txt', 'date': datetime.datetime(2024, 6, 12, 5, 38, 29)}, {'name': '20240616_102144_SN28_QUICKVIEW_VISUAL_1_7_0_SATL-2KM-39N_558_2794.txt', 'date': datetime.datetime(2024, 6, 16, 10, 21, 44)}, {'name': '20240616_081345_SN27_QUICKVIEW_VISUAL_1_7_0_SATL-2KM-39N_562_2792.txt', 'date': datetime.datetime(2024, 6, 16, 8, 13, 45)}, {'name': '20240616_213047_SN30_QUICKVIEW_VISUAL_1_7_0_SATL-2KM-11N_466_3828.txt', 'date': datetime.datetime(2024, 6, 16, 21, 30, 47)}, {'name': '20240619_215556_SN29_QUICKVIEW_VISUAL_1_7_0_SATL-2KM-10N_742_4460.txt', 'date': datetime.datetime(2024, 6, 19, 21, 55, 56)}, {'name': '20240611_215323_SN30_QUICKVIEW_VISUAL_1_7_0_SATL-2KM-10N_702_3948.txt', 'date': datetime.datetime(2024, 6, 11, 21, 53, 23)}, {'name': '20240613_053340_SN29_QUICKVIEW_VISUAL_1_7_0_SATL-2KM-51N_728_4342.txt', 'date': datetime.datetime(2024, 6, 13, 5, 33, 40)}, {'name': '20240612_185419_SN24_QUICKVIEW_VISUAL_1_7_0_SATL-2KM-11N_554_3610.txt', 'date': datetime.datetime(2024, 6, 12, 18, 54, 19)}, {'name': '20240612_053829_SN28_QUICKVIEW_VISUAL_1_7_0_SATL-2KM-51N_688_4420.txt', 'date': datetime.datetime(2024, 6, 12, 5, 38, 29)}, {'name': '20240616_213047_SN30_QUICKVIEW_VISUAL_1_7_0_SATL-2KM-11N_466_3826.txt', 'date': datetime.datetime(2024, 6, 16, 21, 30, 47)}, {'name': '20240612_185400_SN24_QUICKVIEW_VISUAL_1_7_0_SATL-2KM-11N_578_3722.txt', 'date': datetime.datetime(2024, 6, 12, 18, 54)}, {'name': '20240610_191018_SN26_QUICKVIEW_VISUAL_1_7_0_SATL-2KM-11N_384_3750.txt', 'date': datetime.datetime(2024, 6, 10, 19, 10, 18)}, {'name': '20240613_053340_SN29_QUICKVIEW_VISUAL_1_7_0_SATL-2KM-51N_730_4342.txt', 'date': datetime.datetime(2024, 6, 13, 5, 33, 40)}, {'name': '20240616_102144_SN28_QUICKVIEW_VISUAL_1_7_0_SATL-2KM-39N_556_2794.txt', 'date': datetime.datetime(2024, 6, 16, 10, 21, 44)}, {'name': '20240618_215539_SN31_QUICKVIEW_VISUAL_1_7_0_SATL-2KM-11N_452_3740.txt', 'date': datetime.datetime(2024, 6, 18, 21, 55, 39)}, {'name': '20240623_215102_SN43_QUICKVIEW_VISUAL_1_7_0_SATL-2KM-11N_384_3750.txt', 'date': datetime.datetime(2024, 6, 23, 21, 51, 2)}, {'name': '20240607_200250_SN27_QUICKVIEW_VISUAL_1_7_0_SATL-2KM-10N_554_4172.txt', 'date': datetime.datetime(2024, 6, 7, 20, 2, 50)}, {'name': '20240618_215539_SN31_QUICKVIEW_VISUAL_1_7_0_SATL-2KM-11N_458_3756.txt', 'date': datetime.datetime(2024, 6, 18, 21, 55, 39)}, {'name': '20240602_215203_SN30_QUICKVIEW_VISUAL_1_6_0_SATL-2KM-10N_714_3948.txt', 'date': datetime.datetime(2024, 6, 2, 21, 52, 3)}, {'name': '20240617_184443_SN24_QUICKVIEW_VISUAL_1_7_0_SATL-2KM-11N_702_3566.txt', 'date': datetime.datetime(2024, 6, 17, 18, 44, 43)}, {'name': '20240602_215203_SN30_QUICKVIEW_VISUAL_1_6_0_SATL-2KM-10N_712_3948.txt', 'date': datetime.datetime(2024, 6, 2, 21, 52, 3)}, {'name': '20240616_081345_SN27_QUICKVIEW_VISUAL_1_7_0_SATL-2KM-39N_560_2792.txt', 'date': datetime.datetime(2024, 6, 16, 8, 13, 45)}, {'name': '20240616_213047_SN30_QUICKVIEW_VISUAL_1_7_0_SATL-2KM-11N_464_3828.txt', 'date': datetime.datetime(2024, 6, 16, 21, 30, 47)}, {'name': '20240618_193146_SN27_QUICKVIEW_VISUAL_1_7_0_SATL-2KM-11N_530_3682.txt', 'date': datetime.datetime(2024, 6, 18, 19, 31, 46)}, {'name': '20240614_221436_SN31_QUICKVIEW_VISUAL_1_7_0_SATL-2KM-10N_558_4184.txt', 'date': datetime.datetime(2024, 6, 14, 22, 14, 36)}, {'name': '20240605_212717_SN29_QUICKVIEW_VISUAL_1_7_0_SATL-2KM-11N_718_3608.txt', 'date': datetime.datetime(2024, 6, 5, 21, 27, 17)}, {'name': '20240609_191744_SN24_QUICKVIEW_VISUAL_1_7_0_SATL-2KM-10N_564_4194.txt', 'date': datetime.datetime(2024, 6, 9, 19, 17, 44)}, {'name': '20240616_081345_SN27_QUICKVIEW_VISUAL_1_7_0_SATL-2KM-39N_560_2794.txt', 'date': datetime.datetime(2024, 6, 16, 8, 13, 45)}, {'name': '20240609_191959_SN27_QUICKVIEW_VISUAL_1_7_0_SATL-2KM-11N_702_3540.txt', 'date': datetime.datetime(2024, 6, 9, 19, 19, 59)}], '2024-04': [{'name': '20240402_184757_SN24_QUICKVIEW_VISUAL_1_2_0_SATL-2KM-11N_488_3638.txt', 'date': datetime.datetime(2024, 4, 2, 18, 47, 57)}, {'name': '20240423_190101_SN26_QUICKVIEW_VISUAL_1_5_0_SATL-2KM-11N_418_3872.txt', 'date': datetime.datetime(2024, 4, 23, 19, 1, 1)}, {'name': '20240402_184757_SN24_QUICKVIEW_VISUAL_1_2_0_SATL-2KM-11N_486_3630.txt', 'date': datetime.datetime(2024, 4, 2, 18, 47, 57)}, {'name': '20240405_183824_409694_MS_NS24_QUICKVIEW_VISUAL_1_3_0_SATL-2KM-11N_736_3716.txt', 'date': datetime.datetime(2024, 4, 5, 18, 38, 24)}, {'name': '20240418_213446_163074_MS_NS28_QUICKVIEW_VISUAL_1_3_0_SATL-2KM-11N_388_3748.txt', 'date': datetime.datetime(2024, 4, 18, 21, 34, 46)}, {'name': '20240417_215406_715231_MS_NS43_QUICKVIEW_VISUAL_1_3_0_SATL-2KM-10N_740_4446.txt', 'date': datetime.datetime(2024, 4, 17, 21, 54, 6)}, {'name': '20240423_190101_SN26_QUICKVIEW_VISUAL_1_5_0_SATL-2KM-11N_418_3864.txt', 'date': datetime.datetime(2024, 4, 23, 19, 1, 1)}, {'name': '20240401_221819_SN31_QUICKVIEW_VISUAL_1_2_0_SATL-2KM-10N_602_4148.txt', 'date': datetime.datetime(2024, 4, 1, 22, 18, 19)}, {'name': '20240423_190101_SN26_QUICKVIEW_VISUAL_1_5_0_SATL-2KM-11N_418_3860.txt', 'date': datetime.datetime(2024, 4, 23, 19, 1, 1)}, {'name': '20240412_191539_631044_MS_NS24_QUICKVIEW_VISUAL_1_3_0_SATL-2KM-11N_258_4036.txt', 'date': datetime.datetime(2024, 4, 12, 19, 15, 39)}, {'name': '20240402_184757_SN24_QUICKVIEW_VISUAL_1_2_0_SATL-2KM-11N_486_3636.txt', 'date': datetime.datetime(2024, 4, 2, 18, 47, 57)}, {'name': '20240423_190101_SN26_QUICKVIEW_VISUAL_1_5_0_SATL-2KM-11N_418_3862.txt', 'date': datetime.datetime(2024, 4, 23, 19, 1, 1)}, {'name': '20240410_214321_024179_MS_NS30_QUICKVIEW_VISUAL_1_3_0_SATL-2KM-11N_296_3786.txt', 'date': datetime.datetime(2024, 4, 10, 21, 43, 21)}, {'name': '20240428_215426_SN43_QUICKVIEW_VISUAL_1_5_0_SATL-2KM-10N_630_4264.txt', 'date': datetime.datetime(2024, 4, 28, 21, 54, 26)}, {'name': '20240427_221308_SN31_QUICKVIEW_VISUAL_1_5_0_SATL-2KM-10N_722_3848.txt', 'date': datetime.datetime(2024, 4, 27, 22, 13, 8)}, {'name': '20240410_214305_399233_MS_NS43_QUICKVIEW_VISUAL_1_3_0_SATL-2KM-11N_380_3764.txt', 'date': datetime.datetime(2024, 4, 10, 21, 43, 5)}, {'name': '20240423_190101_SN26_QUICKVIEW_VISUAL_1_5_0_SATL-2KM-11N_414_3862.txt', 'date': datetime.datetime(2024, 4, 23, 19, 1, 1)}, {'name': '20240401_032415_SN27_QUICKVIEW_VISUAL_1_2_0_SATL-2KM-51N_688_4420.txt', 'date': datetime.datetime(2024, 4, 1, 3, 24, 15)}, {'name': '20240408_211552_958249_MS_NS29_QUICKVIEW_VISUAL_1_3_0_SATL-2KM-11N_734_3742.txt', 'date': datetime.datetime(2024, 4, 8, 21, 15, 52)}, {'name': '20240428_215426_SN43_QUICKVIEW_VISUAL_1_5_0_SATL-2KM-10N_630_4262.txt', 'date': datetime.datetime(2024, 4, 28, 21, 54, 26)}, {'name': '20240428_215426_SN43_QUICKVIEW_VISUAL_1_5_0_SATL-2KM-10N_634_4282.txt', 'date': datetime.datetime(2024, 4, 28, 21, 54, 26)}, {'name': '20240412_191539_377035_MS_NS24_QUICKVIEW_VISUAL_1_3_0_SATL-2KM-11N_258_4038.txt', 'date': datetime.datetime(2024, 4, 12, 19, 15, 39)}, {'name': '20240401_175918_SN33_QUICKVIEW_VISUAL_1_2_0_SATL-2KM-10N_542_4168.txt', 'date': datetime.datetime(2024, 4, 1, 17, 59, 18)}, {'name': '20240412_191549_672087_MS_NS24_QUICKVIEW_VISUAL_1_3_0_SATL-2KM-11N_240_3966.txt', 'date': datetime.datetime(2024, 4, 12, 19, 15, 49)}, {'name': '20240426_215224_SN29_QUICKVIEW_VISUAL_1_5_0_SATL-2KM-11N_244_3818.txt', 'date': datetime.datetime(2024, 4, 26, 21, 52, 24)}, {'name': '20240401_175918_SN33_QUICKVIEW_VISUAL_1_2_0_SATL-2KM-10N_546_4206.txt', 'date': datetime.datetime(2024, 4, 1, 17, 59, 18)}, {'name': '20240407_190149_742846_MS_NS24_QUICKVIEW_VISUAL_1_3_0_SATL-2KM-11N_258_4028.txt', 'date': datetime.datetime(2024, 4, 7, 19, 1, 49)}, {'name': '20240402_215427_SN31_QUICKVIEW_VISUAL_1_2_0_SATL-2KM-11N_502_3600.txt', 'date': datetime.datetime(2024, 4, 2, 21, 54, 27)}, {'name': '20240428_215557_SN43_QUICKVIEW_VISUAL_1_5_0_SATL-2KM-10N_726_3862.txt', 'date': datetime.datetime(2024, 4, 28, 21, 55, 57)}, {'name': '20240423_190101_SN26_QUICKVIEW_VISUAL_1_5_0_SATL-2KM-11N_416_3864.txt', 'date': datetime.datetime(2024, 4, 23, 19, 1, 1)}, {'name': '20240420_181053_341939_MS_NS33_QUICKVIEW_VISUAL_1_3_0_SATL-2KM-10N_556_4180.txt', 'date': datetime.datetime(2024, 4, 20, 18, 10, 53)}, {'name': '20240402_184757_SN24_QUICKVIEW_VISUAL_1_2_0_SATL-2KM-11N_490_3638.txt', 'date': datetime.datetime(2024, 4, 2, 18, 47, 57)}, {'name': '20240412_052750_556466_MS_NS29_QUICKVIEW_VISUAL_1_3_0_SATL-2KM-51N_688_4420.txt', 'date': datetime.datetime(2024, 4, 12, 5, 27, 50)}, {'name': '20240428_191026_SN24_QUICKVIEW_VISUAL_1_5_0_SATL-2KM-11N_380_3722.txt', 'date': datetime.datetime(2024, 4, 28, 19, 10, 26)}, {'name': '20240401_175925_SN33_QUICKVIEW_VISUAL_1_2_0_SATL-2KM-10N_542_4168.txt', 'date': datetime.datetime(2024, 4, 1, 17, 59, 25)}, {'name': '20240402_215421_SN31_QUICKVIEW_VISUAL_1_2_0_SATL-2KM-11N_500_3632.txt', 'date': datetime.datetime(2024, 4, 2, 21, 54, 21)}, {'name': '20240423_190101_SN26_QUICKVIEW_VISUAL_1_5_0_SATL-2KM-11N_416_3862.txt', 'date': datetime.datetime(2024, 4, 23, 19, 1, 1)}], '2024-02': [{'name': '20240201_075140_SN26_QUICKVIEW_VISUAL_1_1_10_SATL-2KM-39N_558_2794.txt', 'date': datetime.datetime(2024, 2, 1, 7, 51, 40)}, {'name': '20240222_074151_SN26_QUICKVIEW_VISUAL_1_1_10_SATL-2KM-39N_560_2794.txt', 'date': datetime.datetime(2024, 2, 22, 7, 41, 51)}, {'name': '20240218_180121_SN33_QUICKVIEW_VISUAL_1_1_10_SATL-2KM-10N_568_4176.txt', 'date': datetime.datetime(2024, 2, 18, 18, 1, 21)}, {'name': '20240213_212524_SN29_QUICKVIEW_VISUAL_1_1_10_SATL-2KM-11N_542_3750.txt', 'date': datetime.datetime(2024, 2, 13, 21, 25, 24)}, {'name': '20240222_074155_SN26_QUICKVIEW_VISUAL_1_1_10_SATL-2KM-39N_556_2794.txt', 'date': datetime.datetime(2024, 2, 22, 7, 41, 55)}, {'name': '20240222_074155_SN26_QUICKVIEW_VISUAL_1_1_10_SATL-2KM-39N_562_2794.txt', 'date': datetime.datetime(2024, 2, 22, 7, 41, 55)}, {'name': '20240222_074151_SN26_QUICKVIEW_VISUAL_1_1_10_SATL-2KM-39N_560_2796.txt', 'date': datetime.datetime(2024, 2, 22, 7, 41, 51)}, {'name': '20240220_190455_SN27_QUICKVIEW_VISUAL_1_1_10_SATL-2KM-11N_718_3608.txt', 'date': datetime.datetime(2024, 2, 20, 19, 4, 55)}, {'name': '20240203_173953_SN33_QUICKVIEW_VISUAL_1_1_10_SATL-2KM-11N_368_3756.txt', 'date': datetime.datetime(2024, 2, 3, 17, 39, 53)}, {'name': '20240222_074256_SN26_QUICKVIEW_VISUAL_1_1_10_SATL-2KM-39N_564_2790.txt', 'date': datetime.datetime(2024, 2, 22, 7, 42, 56)}, {'name': '20240222_074155_SN26_QUICKVIEW_VISUAL_1_1_10_SATL-2KM-39N_556_2792.txt', 'date': datetime.datetime(2024, 2, 22, 7, 41, 55)}, {'name': '20240201_075143_SN26_QUICKVIEW_VISUAL_1_1_10_SATL-2KM-39N_556_2792.txt', 'date': datetime.datetime(2024, 2, 1, 7, 51, 43)}, {'name': '20240223_025420_SN24_QUICKVIEW_VISUAL_1_1_10_SATL-2KM-51N_686_4422.txt', 'date': datetime.datetime(2024, 2, 23, 2, 54, 20)}, {'name': '20240228_213951_SN29_QUICKVIEW_VISUAL_1_1_10_SATL-2KM-11N_248_4068.txt', 'date': datetime.datetime(2024, 2, 28, 21, 39, 51)}, {'name': '20240222_074155_SN26_QUICKVIEW_VISUAL_1_1_10_SATL-2KM-39N_562_2792.txt', 'date': datetime.datetime(2024, 2, 22, 7, 41, 55)}, {'name': '20240201_075140_SN26_QUICKVIEW_VISUAL_1_1_10_SATL-2KM-39N_560_2792.txt', 'date': datetime.datetime(2024, 2, 1, 7, 51, 40)}, {'name': '20240213_212524_SN29_QUICKVIEW_VISUAL_1_1_10_SATL-2KM-11N_544_3742.txt', 'date': datetime.datetime(2024, 2, 13, 21, 25, 24)}, {'name': '20240213_212524_SN29_QUICKVIEW_VISUAL_1_1_10_SATL-2KM-11N_540_3748.txt', 'date': datetime.datetime(2024, 2, 13, 21, 25, 24)}, {'name': '20240219_214312_SN28_QUICKVIEW_VISUAL_1_1_10_SATL-2KM-11N_252_3954.txt', 'date': datetime.datetime(2024, 2, 19, 21, 43, 12)}, {'name': '20240201_075140_SN26_QUICKVIEW_VISUAL_1_1_10_SATL-2KM-39N_560_2794.txt', 'date': datetime.datetime(2024, 2, 1, 7, 51, 40)}, {'name': '20240216_213630_SN31_QUICKVIEW_VISUAL_1_1_10_SATL-2KM-11N_418_3724.txt', 'date': datetime.datetime(2024, 2, 16, 21, 36, 30)}, {'name': '20240222_074151_SN26_QUICKVIEW_VISUAL_1_1_10_SATL-2KM-39N_558_2796.txt', 'date': datetime.datetime(2024, 2, 22, 7, 41, 51)}, {'name': '20240201_075140_SN26_QUICKVIEW_VISUAL_1_1_10_SATL-2KM-39N_560_2796.txt', 'date': datetime.datetime(2024, 2, 1, 7, 51, 40)}, {'name': '20240208_184650_SN24_QUICKVIEW_VISUAL_1_1_10_SATL-2KM-11N_624_3632.txt', 'date': datetime.datetime(2024, 2, 8, 18, 46, 50)}, {'name': '20240214_184340_SN24_QUICKVIEW_VISUAL_1_1_10_SATL-2KM-11N_688_3630.txt', 'date': datetime.datetime(2024, 2, 14, 18, 43, 40)}, {'name': '20240212_213506_SN31_QUICKVIEW_VISUAL_1_1_10_SATL-2KM-11N_408_3712.txt', 'date': datetime.datetime(2024, 2, 12, 21, 35, 6)}, {'name': '20240222_074155_SN26_QUICKVIEW_VISUAL_1_1_10_SATL-2KM-39N_560_2792.txt', 'date': datetime.datetime(2024, 2, 22, 7, 41, 55)}, {'name': '20240222_212250_SN30_QUICKVIEW_VISUAL_1_1_10_SATL-2KM-11N_382_3722.txt', 'date': datetime.datetime(2024, 2, 22, 21, 22, 50)}, {'name': '20240221_190608_SN26_QUICKVIEW_VISUAL_1_1_10_SATL-2KM-11N_380_3764.txt', 'date': datetime.datetime(2024, 2, 21, 19, 6, 8)}, {'name': '20240209_212744_SN29_QUICKVIEW_VISUAL_1_1_10_SATL-2KM-11N_380_3722.txt', 'date': datetime.datetime(2024, 2, 9, 21, 27, 44)}, {'name': '20240222_074151_SN26_QUICKVIEW_VISUAL_1_1_10_SATL-2KM-39N_556_2794.txt', 'date': datetime.datetime(2024, 2, 22, 7, 41, 51)}, {'name': '20240202_191114_SN27_QUICKVIEW_VISUAL_1_1_10_SATL-2KM-11N_718_3608.txt', 'date': datetime.datetime(2024, 2, 2, 19, 11, 14)}, {'name': '20240202_184725_SN24_QUICKVIEW_VISUAL_1_1_10_SATL-2KM-11N_624_3630.txt', 'date': datetime.datetime(2024, 2, 2, 18, 47, 25)}, {'name': '20240222_074151_SN26_QUICKVIEW_VISUAL_1_1_10_SATL-2KM-39N_562_2794.txt', 'date': datetime.datetime(2024, 2, 22, 7, 41, 51)}, {'name': '20240224_214855_SN30_QUICKVIEW_VISUAL_1_1_10_SATL-2KM-10N_552_4162.txt', 'date': datetime.datetime(2024, 2, 24, 21, 48, 55)}, {'name': '20240227_214218_SN30_QUICKVIEW_VISUAL_1_1_10_SATL-2KM-10N_562_4170.txt', 'date': datetime.datetime(2024, 2, 27, 21, 42, 18)}, {'name': '20240201_075140_SN26_QUICKVIEW_VISUAL_1_1_10_SATL-2KM-39N_556_2794.txt', 'date': datetime.datetime(2024, 2, 1, 7, 51, 40)}, {'name': '20240222_074155_SN26_QUICKVIEW_VISUAL_1_1_10_SATL-2KM-39N_558_2794.txt', 'date': datetime.datetime(2024, 2, 22, 7, 41, 55)}, {'name': '20240211_211057_SN30_QUICKVIEW_VISUAL_1_1_10_SATL-2KM-11N_700_3690.txt', 'date': datetime.datetime(2024, 2, 11, 21, 10, 57)}, {'name': '20240201_075140_SN26_QUICKVIEW_VISUAL_1_1_10_SATL-2KM-39N_562_2794.txt', 'date': datetime.datetime(2024, 2, 1, 7, 51, 40)}, {'name': '20240201_075143_SN26_QUICKVIEW_VISUAL_1_1_10_SATL-2KM-39N_562_2788.txt', 'date': datetime.datetime(2024, 2, 1, 7, 51, 43)}, {'name': '20240224_214855_SN30_QUICKVIEW_VISUAL_1_1_10_SATL-2KM-10N_554_4162.txt', 'date': datetime.datetime(2024, 2, 24, 21, 48, 55)}, {'name': '20240203_173953_SN33_QUICKVIEW_VISUAL_1_1_10_SATL-2KM-11N_366_3756.txt', 'date': datetime.datetime(2024, 2, 3, 17, 39, 53)}, {'name': '20240201_075140_SN26_QUICKVIEW_VISUAL_1_1_10_SATL-2KM-39N_556_2792.txt', 'date': datetime.datetime(2024, 2, 1, 7, 51, 40)}, {'name': '20240201_075140_SN26_QUICKVIEW_VISUAL_1_1_10_SATL-2KM-39N_562_2792.txt', 'date': datetime.datetime(2024, 2, 1, 7, 51, 40)}], '2024-03': [{'name': '20240322_212516_SN28_QUICKVIEW_VISUAL_1_2_0_SATL-2KM-11N_502_3600.txt', 'date': datetime.datetime(2024, 3, 22, 21, 25, 16)}, {'name': '20240317_221229_SN31_QUICKVIEW_VISUAL_1_2_0_SATL-2KM-10N_556_4176.txt', 'date': datetime.datetime(2024, 3, 17, 22, 12, 29)}, {'name': '20240316_191451_SN26_QUICKVIEW_VISUAL_1_2_0_SATL-2KM-11N_380_3764.txt', 'date': datetime.datetime(2024, 3, 16, 19, 14, 51)}, {'name': '20240324_180232_SN33_QUICKVIEW_VISUAL_1_2_0_SATL-2KM-10N_554_4172.txt', 'date': datetime.datetime(2024, 3, 24, 18, 2, 32)}, {'name': '20240317_215115_SN28_QUICKVIEW_VISUAL_1_2_0_SATL-2KM-10N_554_4162.txt', 'date': datetime.datetime(2024, 3, 17, 21, 51, 15)}, {'name': '20240325_173936_SN33_QUICKVIEW_VISUAL_1_2_0_SATL-2KM-11N_378_3722.txt', 'date': datetime.datetime(2024, 3, 25, 17, 39, 36)}, {'name': '20240304_212824_SN30_QUICKVIEW_VISUAL_1_2_0_SATL-2KM-11N_378_3722.txt', 'date': datetime.datetime(2024, 3, 4, 21, 28, 24)}, {'name': '20240314_220020_SN30_QUICKVIEW_VISUAL_1_2_0_SATL-2KM-10N_544_4186.txt', 'date': datetime.datetime(2024, 3, 14, 22, 0, 20)}, {'name': '20240322_184801_SN24_QUICKVIEW_VISUAL_1_2_0_SATL-2KM-11N_500_3632.txt', 'date': datetime.datetime(2024, 3, 22, 18, 48, 1)}, {'name': '20240308_211248_SN29_QUICKVIEW_VISUAL_1_2_0_SATL-2KM-11N_718_3640.txt', 'date': datetime.datetime(2024, 3, 8, 21, 12, 48)}, {'name': '20240317_215115_SN28_QUICKVIEW_VISUAL_1_2_0_SATL-2KM-10N_552_4162.txt', 'date': datetime.datetime(2024, 3, 17, 21, 51, 15)}, {'name': '20240314_220020_SN30_QUICKVIEW_VISUAL_1_2_0_SATL-2KM-10N_550_4202.txt', 'date': datetime.datetime(2024, 3, 14, 22, 0, 20)}, {'name': '20240317_215115_SN28_QUICKVIEW_VISUAL_1_2_0_SATL-2KM-10N_552_4164.txt', 'date': datetime.datetime(2024, 3, 17, 21, 51, 15)}, {'name': '20240308_191212_SN27_QUICKVIEW_VISUAL_1_2_0_SATL-2KM-11N_506_3614.txt', 'date': datetime.datetime(2024, 3, 8, 19, 12, 12)}, {'name': '20240321_220846_SN31_QUICKVIEW_VISUAL_1_2_0_SATL-2KM-10N_560_4178.txt', 'date': datetime.datetime(2024, 3, 21, 22, 8, 46)}, {'name': '20240322_184801_SN24_QUICKVIEW_VISUAL_1_2_0_SATL-2KM-11N_502_3632.txt', 'date': datetime.datetime(2024, 3, 22, 18, 48, 1)}, {'name': '20240321_190819_SN27_QUICKVIEW_VISUAL_1_2_0_SATL-2KM-11N_714_3632.txt', 'date': datetime.datetime(2024, 3, 21, 19, 8, 19)}], '2024-05': [{'name': '20240506_192008_SN26_QUICKVIEW_VISUAL_1_5_0_SATL-2KM-10N_562_4178.txt', 'date': datetime.datetime(2024, 5, 6, 19, 20, 8)}, {'name': '20240521_052621_SN43_QUICKVIEW_VISUAL_1_6_0_SATL-2KM-51N_730_4342.txt', 'date': datetime.datetime(2024, 5, 21, 5, 26, 21)}, {'name': '20240508_194502_SN27_QUICKVIEW_VISUAL_1_5_0_SATL-2KM-11N_264_4022.txt', 'date': datetime.datetime(2024, 5, 8, 19, 45, 2)}, {'name': '20240519_191838_SN27_QUICKVIEW_VISUAL_1_5_0_SATL-2KM-11N_718_3608.txt', 'date': datetime.datetime(2024, 5, 19, 19, 18, 38)}, {'name': '20240528_191448_SN24_QUICKVIEW_VISUAL_1_6_0_SATL-2KM-11N_248_4068.txt', 'date': datetime.datetime(2024, 5, 28, 19, 14, 48)}, {'name': '20240509_193206_SN26_QUICKVIEW_VISUAL_1_5_0_SATL-2KM-10N_562_4196.txt', 'date': datetime.datetime(2024, 5, 9, 19, 32, 6)}, {'name': '20240516_211630_SN28_QUICKVIEW_VISUAL_1_5_0_SATL-2KM-11N_716_3848.txt', 'date': datetime.datetime(2024, 5, 16, 21, 16, 30)}, {'name': '20240514_052716_SN43_QUICKVIEW_VISUAL_1_5_0_SATL-2KM-51N_730_4342.txt', 'date': datetime.datetime(2024, 5, 14, 5, 27, 16)}, {'name': '20240503_214759_SN28_QUICKVIEW_VISUAL_1_5_0_SATL-2KM-11N_376_3724.txt', 'date': datetime.datetime(2024, 5, 3, 21, 47, 59)}, {'name': '20240519_184534_SN24_QUICKVIEW_VISUAL_1_5_0_SATL-2KM-11N_658_3700.txt', 'date': datetime.datetime(2024, 5, 19, 18, 45, 34)}, {'name': '20240521_101252_SN43_QUICKVIEW_VISUAL_1_6_0_SATL-2KM-39N_556_2792.txt', 'date': datetime.datetime(2024, 5, 21, 10, 12, 52)}, {'name': '20240510_191914_SN27_QUICKVIEW_VISUAL_1_5_0_SATL-2KM-11N_712_3566.txt', 'date': datetime.datetime(2024, 5, 10, 19, 19, 14)}, {'name': '20240528_191604_SN24_QUICKVIEW_VISUAL_1_6_0_SATL-2KM-11N_344_3836.txt', 'date': datetime.datetime(2024, 5, 28, 19, 16, 4)}, {'name': '20240509_212336_SN29_QUICKVIEW_VISUAL_1_5_0_SATL-2KM-11N_706_3778.txt', 'date': datetime.datetime(2024, 5, 9, 21, 23, 36)}, {'name': '20240508_194502_SN27_QUICKVIEW_VISUAL_1_5_0_SATL-2KM-11N_262_4022.txt', 'date': datetime.datetime(2024, 5, 8, 19, 45, 2)}, {'name': '20240519_214917_SN31_QUICKVIEW_VISUAL_1_5_0_SATL-2KM-11N_500_3600.txt', 'date': datetime.datetime(2024, 5, 19, 21, 49, 17)}, {'name': '20240513_212022_SN29_QUICKVIEW_VISUAL_1_5_0_SATL-2KM-11N_630_3742.txt', 'date': datetime.datetime(2024, 5, 13, 21, 20, 22)}, {'name': '20240516_190328_SN24_QUICKVIEW_VISUAL_1_5_0_SATL-2KM-11N_262_4052.txt', 'date': datetime.datetime(2024, 5, 16, 19, 3, 28)}, {'name': '20240519_214917_SN31_QUICKVIEW_VISUAL_1_5_0_SATL-2KM-11N_500_3602.txt', 'date': datetime.datetime(2024, 5, 19, 21, 49, 17)}, {'name': '20240521_101252_SN43_QUICKVIEW_VISUAL_1_6_0_SATL-2KM-39N_558_2796.txt', 'date': datetime.datetime(2024, 5, 21, 10, 12, 52)}, {'name': '20240510_191908_SN27_QUICKVIEW_VISUAL_1_5_0_SATL-2KM-11N_718_3608.txt', 'date': datetime.datetime(2024, 5, 10, 19, 19, 8)}, {'name': '20240519_214917_SN31_QUICKVIEW_VISUAL_1_5_0_SATL-2KM-11N_500_3598.txt', 'date': datetime.datetime(2024, 5, 19, 21, 49, 17)}, {'name': '20240524_213504_SN29_QUICKVIEW_VISUAL_1_6_0_SATL-2KM-11N_380_3724.txt', 'date': datetime.datetime(2024, 5, 24, 21, 35, 4)}, {'name': '20240506_213507_SN43_QUICKVIEW_VISUAL_1_5_0_SATL-2KM-11N_384_3750.txt', 'date': datetime.datetime(2024, 5, 6, 21, 35, 7)}, {'name': '20240520_194539_SN27_QUICKVIEW_VISUAL_1_5_0_SATL-2KM-10N_638_4280.txt', 'date': datetime.datetime(2024, 5, 20, 19, 45, 39)}, {'name': '20240520_194539_SN27_QUICKVIEW_VISUAL_1_5_0_SATL-2KM-10N_638_4282.txt', 'date': datetime.datetime(2024, 5, 20, 19, 45, 39)}, {'name': '20240524_213504_SN29_QUICKVIEW_VISUAL_1_6_0_SATL-2KM-11N_378_3724.txt', 'date': datetime.datetime(2024, 5, 24, 21, 35, 4)}, {'name': '20240507_191326_SN27_QUICKVIEW_VISUAL_1_5_0_SATL-2KM-11N_718_3608.txt', 'date': datetime.datetime(2024, 5, 7, 19, 13, 26)}]}\n"
     ]
    }
   ],
   "source": [
    "annotations_by_month_detailed = {}\n",
    "\n",
    "for file in annotations:\n",
    "    filename = os.path.basename(file)\n",
    "    date_str = filename[:8]\n",
    "    time_str = filename[9:15]\n",
    "    datetime_str = date_str + time_str\n",
    "    date_obj = datetime.strptime(datetime_str, \"%Y%m%d%H%M%S\")\n",
    "    \n",
    "    year_month = date_obj.strftime(\"%Y-%m\")\n",
    "    \n",
    "    annotation_dict = {\n",
    "        'name': filename,\n",
    "        'date': date_obj\n",
    "    }\n",
    "    \n",
    "    if year_month in annotations_by_month_detailed:\n",
    "        annotations_by_month_detailed[year_month].append(annotation_dict)\n",
    "    else:\n",
    "        annotations_by_month_detailed[year_month] = [annotation_dict]\n",
    "\n",
    "print(annotations_by_month_detailed)"
   ]
  },
  {
   "cell_type": "markdown",
   "id": "90d31583",
   "metadata": {},
   "source": [
    "### Exercise 3:\n",
    "Print all the annotations from the oldest ones to the newest one during the seconf half of the 2024. "
   ]
  },
  {
   "cell_type": "code",
   "execution_count": 85,
   "id": "9b5862c2",
   "metadata": {},
   "outputs": [
    {
     "name": "stdout",
     "output_type": "stream",
     "text": [
      "No annotations in the second half of 2024.\n"
     ]
    }
   ],
   "source": [
    "second_half_2024_annotations = [ann for ann in ann_datetime if ann[1].year == 2024 and ann[1].month >= 7]\n",
    "\n",
    "sorted_annotations = sorted(second_half_2024_annotations, key=lambda x: x[1])\n",
    "\n",
    "if sorted_annotations:\n",
    "    for annotation in sorted_annotations:\n",
    "        print(annotation)\n",
    "else:\n",
    "    print(\"No annotations in the second half of 2024\")"
   ]
  }
 ],
 "metadata": {
  "celltoolbar": "Slideshow",
  "kernelspec": {
   "display_name": "Python 3 (ipykernel)",
   "language": "python",
   "name": "python3"
  },
  "language_info": {
   "codemirror_mode": {
    "name": "ipython",
    "version": 3
   },
   "file_extension": ".py",
   "mimetype": "text/x-python",
   "name": "python",
   "nbconvert_exporter": "python",
   "pygments_lexer": "ipython3",
   "version": "3.12.4"
  }
 },
 "nbformat": 4,
 "nbformat_minor": 5
}
