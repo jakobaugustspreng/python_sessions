{
  "cells": [
    {
      "cell_type": "code",
      "execution_count": 1,
      "metadata": {
        "colab": {
          "base_uri": "https://localhost:8080/"
        },
        "id": "F_Dwk_icCgt3",
        "outputId": "8c588486-bbf9-4ef5-e5a5-23b7674c82e0"
      },
      "outputs": [
        {
          "name": "stdout",
          "output_type": "stream",
          "text": [
            "Hello, Python!\n"
          ]
        }
      ],
      "source": [
        "#Q1\n",
        "print(\"Hello, Python!\")"
      ]
    },
    {
      "cell_type": "code",
      "execution_count": 3,
      "metadata": {
        "colab": {
          "base_uri": "https://localhost:8080/"
        },
        "id": "gKOY02zhCzeK",
        "outputId": "9cb0881d-d05c-4df7-db5b-e5b468c7a413"
      },
      "outputs": [
        {
          "name": "stdout",
          "output_type": "stream",
          "text": [
            "10\n",
            "-2\n",
            "24\n",
            "0.6666666666666666\n"
          ]
        }
      ],
      "source": [
        "#Q2\n",
        "a = 4\n",
        "b = 6\n",
        "print(a + b)\n",
        "print(a - b)\n",
        "print(a * b)\n",
        "print(a / b)"
      ]
    },
    {
      "cell_type": "code",
      "execution_count": 6,
      "metadata": {
        "colab": {
          "base_uri": "https://localhost:8080/"
        },
        "id": "9F3qgVhNDVSH",
        "outputId": "46ba7237-28ac-4b28-dc4e-cedc419803f1"
      },
      "outputs": [
        {
          "name": "stdout",
          "output_type": "stream",
          "text": [
            "Hello, Jakob!\n"
          ]
        }
      ],
      "source": [
        "#Q3\n",
        "name = 'Jakob'\n",
        "print(f\"Hello, {name}!\")"
      ]
    },
    {
      "cell_type": "code",
      "execution_count": 11,
      "metadata": {
        "colab": {
          "base_uri": "https://localhost:8080/"
        },
        "id": "f44tjCz8DrZB",
        "outputId": "f4a9eaae-acd9-4e6e-f6d6-28cfa69aa135"
      },
      "outputs": [
        {
          "name": "stdout",
          "output_type": "stream",
          "text": [
            "['ESADE', 'NOVA', 'IE', 'CBS']\n",
            "ESADE\n",
            "CBS\n"
          ]
        }
      ],
      "source": [
        "#Q4\n",
        "universities = ['ESADE', 'NOVA', 'IE', 'CBS']\n",
        "print(universities)\n",
        "print(universities[0])\n",
        "print(universities[-1])"
      ]
    },
    {
      "cell_type": "code",
      "execution_count": 15,
      "metadata": {
        "colab": {
          "base_uri": "https://localhost:8080/"
        },
        "id": "DVNkuSGBFT9-",
        "outputId": "67ace358-5a69-4265-fb61-ca2dc09e39e6"
      },
      "outputs": [
        {
          "name": "stdout",
          "output_type": "stream",
          "text": [
            "name: Jakob\n",
            "age: 23\n",
            "grade: 10\n"
          ]
        }
      ],
      "source": [
        "#Q5\n",
        "student = {'name': 'Jakob','age': 23, 'grade' : 10}\n",
        "for key, value in student.items():\n",
        "    print(f\"{key}: {value}\")"
      ]
    },
    {
      "cell_type": "code",
      "execution_count": 16,
      "metadata": {
        "colab": {
          "base_uri": "https://localhost:8080/"
        },
        "id": "wJZJVni2HNed",
        "outputId": "09dc1341-3bbc-4475-d280-c322893d584b"
      },
      "outputs": [
        {
          "name": "stdout",
          "output_type": "stream",
          "text": [
            "(10, 5)\n",
            "10\n",
            "5\n"
          ]
        }
      ],
      "source": [
        "#Q6\n",
        "coordinates = (10,5)\n",
        "print(coordinates)\n",
        "print(coordinates[0])\n",
        "print(coordinates[1])"
      ]
    },
    {
      "cell_type": "code",
      "execution_count": 29,
      "metadata": {
        "colab": {
          "base_uri": "https://localhost:8080/"
        },
        "id": "_l062xz-H4tf",
        "outputId": "3715c251-539f-4e2b-9099-039289311881"
      },
      "outputs": [
        {
          "name": "stdout",
          "output_type": "stream",
          "text": [
            "{'green', 'blue', 'red'}\n",
            "{'green', 'blue', 'red', 'yellow'}\n",
            "{'green', 'blue', 'red', 'yellow'}\n",
            "{'blue', 'red', 'yellow'}\n",
            "{'blue', 'red', 'yellow', 'white'}\n"
          ]
        }
      ],
      "source": [
        "#Q7\n",
        "colours = {\"red\", \"green\", \"blue\"}\n",
        "print(colours)\n",
        "colours.add(\"yellow\")\n",
        "print(colours)\n",
        "\n",
        "#\n",
        "colours.add(\"green\") #stays the same as there cant be duplicates in a set\n",
        "print(colours)\n",
        "\n",
        "colours.remove(\"green\")\n",
        "print(colours)\n",
        "\n",
        "light_colors = {'yellow', 'white'}\n",
        "all_colours = colours.union(light_colors)\n",
        "print(all_colours)\n"
      ]
    },
    {
      "cell_type": "code",
      "execution_count": 33,
      "metadata": {
        "colab": {
          "base_uri": "https://localhost:8080/"
        },
        "id": "NT5OdTLqJ2Oj",
        "outputId": "0a77cea1-cf74-4937-b44b-bffe6a341ff2"
      },
      "outputs": [
        {
          "name": "stdout",
          "output_type": "stream",
          "text": [
            "negative\n"
          ]
        }
      ],
      "source": [
        "#Q8\n",
        "a = -6\n",
        "if a > 0:\n",
        "  print('positive')\n",
        "elif a == 0:\n",
        "  print('zero')\n",
        "else:\n",
        "  print('negative')"
      ]
    },
    {
      "cell_type": "code",
      "execution_count": 34,
      "metadata": {
        "colab": {
          "base_uri": "https://localhost:8080/"
        },
        "id": "6D1FbZDtKmww",
        "outputId": "f74a0542-bf52-4f29-b6e8-a03f838084d8"
      },
      "outputs": [
        {
          "name": "stdout",
          "output_type": "stream",
          "text": [
            "1\n",
            "2\n",
            "3\n",
            "4\n",
            "5\n",
            "6\n"
          ]
        }
      ],
      "source": [
        "#Q9\n",
        "numbers = [1, 2, 3, 4, 5, 6]\n",
        "for number in numbers:\n",
        "  print(number)"
      ]
    },
    {
      "cell_type": "code",
      "execution_count": 35,
      "metadata": {
        "colab": {
          "base_uri": "https://localhost:8080/"
        },
        "id": "6crVPZmLK4Ig",
        "outputId": "1b18997c-eb93-4691-b736-aa64930698fc"
      },
      "outputs": [
        {
          "name": "stdout",
          "output_type": "stream",
          "text": [
            "1\n",
            "2\n",
            "3\n",
            "4\n",
            "5\n"
          ]
        }
      ],
      "source": [
        "#Q10\n",
        "number = 1\n",
        "while number <= 5:\n",
        "  print(number)\n",
        "  number += 1\n"
      ]
    },
    {
      "cell_type": "code",
      "execution_count": 40,
      "metadata": {
        "colab": {
          "base_uri": "https://localhost:8080/"
        },
        "id": "tA_YzdfpLSQE",
        "outputId": "1d1b7888-9bd8-4a63-c15d-217793e70a96"
      },
      "outputs": [
        {
          "name": "stdout",
          "output_type": "stream",
          "text": [
            "Enter a grade (A, B, C, D, or F): A\n",
            "Excellent!\n"
          ]
        }
      ],
      "source": [
        "#Q11\n",
        "grade = input(\"Enter a grade (A, B, C, D, or F): \")\n",
        "match grade:\n",
        "    case \"A\":\n",
        "        print(\"Excellent!\")\n",
        "    case \"B\":\n",
        "        print(\"Good job!\")\n",
        "    case \"C\":\n",
        "        print(\"Fair.\")\n",
        "    case \"D\":\n",
        "        print(\"Needs improvement.\")\n",
        "    case \"F\":\n",
        "        print(\"Failing.\")\n",
        "    case _:\n",
        "        print(\"Input not valid\")"
      ]
    },
    {
      "cell_type": "code",
      "execution_count": 42,
      "metadata": {
        "colab": {
          "base_uri": "https://localhost:8080/"
        },
        "id": "8bwWE1bTMIGG",
        "outputId": "2044fcfc-e50e-447f-c15d-c6662c8c1bab"
      },
      "outputs": [
        {
          "name": "stdout",
          "output_type": "stream",
          "text": [
            "Hello, Jakob!\n"
          ]
        }
      ],
      "source": [
        "#Q12\n",
        "def greet(name):\n",
        "  print(f'Hello, {name}!')\n",
        "greet('Jakob')"
      ]
    },
    {
      "cell_type": "code",
      "execution_count": 44,
      "metadata": {
        "colab": {
          "base_uri": "https://localhost:8080/"
        },
        "id": "nEpliB7IMqxE",
        "outputId": "c75c7715-6020-4498-ad69-e89acf07e3fd"
      },
      "outputs": [
        {
          "name": "stdout",
          "output_type": "stream",
          "text": [
            "25\n",
            "9\n",
            "64\n",
            "4\n"
          ]
        }
      ],
      "source": [
        "#Q13\n",
        "def square(number):\n",
        "  print(number**2)\n",
        "square(5)\n",
        "square(3)\n",
        "square(8)\n",
        "square(2)"
      ]
    },
    {
      "cell_type": "code",
      "execution_count": 48,
      "metadata": {
        "colab": {
          "base_uri": "https://localhost:8080/"
        },
        "id": "6Y6K-KJJM_pX",
        "outputId": "f85c08d8-bf7a-4973-b1b1-234493cacaf2"
      },
      "outputs": [
        {
          "name": "stdout",
          "output_type": "stream",
          "text": [
            "24\n",
            "6\n"
          ]
        }
      ],
      "source": [
        "#Q14\n",
        "def multiply(a, b = 1):\n",
        "  print(a*b)\n",
        "multiply(6,4)\n",
        "multiply(6)"
      ]
    },
    {
      "cell_type": "code",
      "execution_count": 51,
      "metadata": {
        "colab": {
          "base_uri": "https://localhost:8080/"
        },
        "id": "qxtLxMNONSMK",
        "outputId": "6e1df0ba-fdcd-4665-d296-f2da47c0233d"
      },
      "outputs": [
        {
          "name": "stdout",
          "output_type": "stream",
          "text": [
            "[1, 4, 9, 16, 25, 36, 49, 64, 81, 100]\n"
          ]
        }
      ],
      "source": [
        "#Q15\n",
        "numbers = [1, 2, 3, 4, 5, 6, 7, 8, 9, 10]\n",
        "new_list = [number ** 2 for number in numbers]\n",
        "print(new_list)"
      ]
    },
    {
      "cell_type": "code",
      "execution_count": 56,
      "metadata": {
        "colab": {
          "base_uri": "https://localhost:8080/"
        },
        "id": "qGMjUwfAN-wt",
        "outputId": "ba5b502b-21e5-48fa-fc06-5bced346efc2"
      },
      "outputs": [
        {
          "name": "stdout",
          "output_type": "stream",
          "text": [
            "Jackson has average of: 8.0\n",
            "Yannick has average of: 8.0\n",
            "Paul has average of: 5.0\n"
          ]
        }
      ],
      "source": [
        "#Q16\n",
        "grades = {'Jackson': [7, 8, 9], 'Yannick': [8, 7, 9], 'Paul': [5, 6, 4]}\n",
        "def avg_grades(students):\n",
        "  for student, grades in students.items():\n",
        "        average_grade = sum(grades) / len(grades)\n",
        "        print(f\"{student} has average of: {average_grade:}\")\n",
        "avg_grades(grades)\n"
      ]
    },
    {
      "cell_type": "code",
      "execution_count": 65,
      "metadata": {
        "colab": {
          "base_uri": "https://localhost:8080/"
        },
        "id": "awu-nxpqPtDb",
        "outputId": "c5a54caa-f896-4951-9d05-9a70bf4061e2"
      },
      "outputs": [
        {
          "name": "stdout",
          "output_type": "stream",
          "text": [
            "Enter first number: 5\n",
            "Enter second number: 2\n",
            "Enter operator (+, -, *, /): /\n",
            "2.5\n"
          ]
        }
      ],
      "source": [
        "#Q17\n",
        "def calculate(number1, number2, operator):\n",
        "    if operator == \"+\":\n",
        "        return number1 + number2\n",
        "    elif operator == \"-\":\n",
        "        return number1 - number2\n",
        "    elif operator == \"*\":\n",
        "        return number1 * number2\n",
        "    elif operator == \"/\":\n",
        "        return number1 / number2\n",
        "    else:\n",
        "        return \"None\"\n",
        "\n",
        "number1 = float(input(\"Enter first number: \"))\n",
        "number2 = float(input(\"Enter second number: \"))\n",
        "operator = input(\"Enter operator (+, -, *, /): \")\n",
        "\n",
        "print(calculate(number1, number2, operator))"
      ]
    }
  ],
  "metadata": {
    "colab": {
      "provenance": []
    },
    "kernelspec": {
      "display_name": "Python 3",
      "name": "python3"
    },
    "language_info": {
      "name": "python"
    }
  },
  "nbformat": 4,
  "nbformat_minor": 0
}
